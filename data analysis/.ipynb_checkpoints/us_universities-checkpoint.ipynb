{
 "cells": [
  {
   "cell_type": "code",
   "execution_count": 1,
   "id": "143d5cf5",
   "metadata": {},
   "outputs": [],
   "source": [
    "import pandas as pd\n",
    "import math\n",
    "import numpy as np"
   ]
  },
  {
   "cell_type": "code",
   "execution_count": 3,
   "id": "0d8a5cf8",
   "metadata": {},
   "outputs": [
    {
     "ename": "FileNotFoundError",
     "evalue": "[Errno 2] No such file or directory: 'us_universities.xlsx'",
     "output_type": "error",
     "traceback": [
      "\u001b[0;31m---------------------------------------------------------------------------\u001b[0m",
      "\u001b[0;31mFileNotFoundError\u001b[0m                         Traceback (most recent call last)",
      "Input \u001b[0;32mIn [3]\u001b[0m, in \u001b[0;36m<cell line: 2>\u001b[0;34m()\u001b[0m\n\u001b[1;32m      1\u001b[0m \u001b[38;5;66;03m# Read US Universities Data\u001b[39;00m\n\u001b[0;32m----> 2\u001b[0m us_uni_data \u001b[38;5;241m=\u001b[39m \u001b[43mpd\u001b[49m\u001b[38;5;241;43m.\u001b[39;49m\u001b[43mread_excel\u001b[49m\u001b[43m(\u001b[49m\u001b[38;5;124;43m\"\u001b[39;49m\u001b[38;5;124;43mus_universities.xlsx\u001b[39;49m\u001b[38;5;124;43m\"\u001b[39;49m\u001b[43m,\u001b[49m\u001b[43m \u001b[49m\u001b[43msheet_name\u001b[49m\u001b[38;5;241;43m=\u001b[39;49m\u001b[38;5;124;43m\"\u001b[39;49m\u001b[38;5;124;43mFeuil1\u001b[39;49m\u001b[38;5;124;43m\"\u001b[39;49m\u001b[43m)\u001b[49m\n",
      "File \u001b[0;32m~/opt/anaconda3/lib/python3.9/site-packages/pandas/util/_decorators.py:311\u001b[0m, in \u001b[0;36mdeprecate_nonkeyword_arguments.<locals>.decorate.<locals>.wrapper\u001b[0;34m(*args, **kwargs)\u001b[0m\n\u001b[1;32m    305\u001b[0m \u001b[38;5;28;01mif\u001b[39;00m \u001b[38;5;28mlen\u001b[39m(args) \u001b[38;5;241m>\u001b[39m num_allow_args:\n\u001b[1;32m    306\u001b[0m     warnings\u001b[38;5;241m.\u001b[39mwarn(\n\u001b[1;32m    307\u001b[0m         msg\u001b[38;5;241m.\u001b[39mformat(arguments\u001b[38;5;241m=\u001b[39marguments),\n\u001b[1;32m    308\u001b[0m         \u001b[38;5;167;01mFutureWarning\u001b[39;00m,\n\u001b[1;32m    309\u001b[0m         stacklevel\u001b[38;5;241m=\u001b[39mstacklevel,\n\u001b[1;32m    310\u001b[0m     )\n\u001b[0;32m--> 311\u001b[0m \u001b[38;5;28;01mreturn\u001b[39;00m \u001b[43mfunc\u001b[49m\u001b[43m(\u001b[49m\u001b[38;5;241;43m*\u001b[39;49m\u001b[43margs\u001b[49m\u001b[43m,\u001b[49m\u001b[43m \u001b[49m\u001b[38;5;241;43m*\u001b[39;49m\u001b[38;5;241;43m*\u001b[39;49m\u001b[43mkwargs\u001b[49m\u001b[43m)\u001b[49m\n",
      "File \u001b[0;32m~/opt/anaconda3/lib/python3.9/site-packages/pandas/io/excel/_base.py:457\u001b[0m, in \u001b[0;36mread_excel\u001b[0;34m(io, sheet_name, header, names, index_col, usecols, squeeze, dtype, engine, converters, true_values, false_values, skiprows, nrows, na_values, keep_default_na, na_filter, verbose, parse_dates, date_parser, thousands, decimal, comment, skipfooter, convert_float, mangle_dupe_cols, storage_options)\u001b[0m\n\u001b[1;32m    455\u001b[0m \u001b[38;5;28;01mif\u001b[39;00m \u001b[38;5;129;01mnot\u001b[39;00m \u001b[38;5;28misinstance\u001b[39m(io, ExcelFile):\n\u001b[1;32m    456\u001b[0m     should_close \u001b[38;5;241m=\u001b[39m \u001b[38;5;28;01mTrue\u001b[39;00m\n\u001b[0;32m--> 457\u001b[0m     io \u001b[38;5;241m=\u001b[39m \u001b[43mExcelFile\u001b[49m\u001b[43m(\u001b[49m\u001b[43mio\u001b[49m\u001b[43m,\u001b[49m\u001b[43m \u001b[49m\u001b[43mstorage_options\u001b[49m\u001b[38;5;241;43m=\u001b[39;49m\u001b[43mstorage_options\u001b[49m\u001b[43m,\u001b[49m\u001b[43m \u001b[49m\u001b[43mengine\u001b[49m\u001b[38;5;241;43m=\u001b[39;49m\u001b[43mengine\u001b[49m\u001b[43m)\u001b[49m\n\u001b[1;32m    458\u001b[0m \u001b[38;5;28;01melif\u001b[39;00m engine \u001b[38;5;129;01mand\u001b[39;00m engine \u001b[38;5;241m!=\u001b[39m io\u001b[38;5;241m.\u001b[39mengine:\n\u001b[1;32m    459\u001b[0m     \u001b[38;5;28;01mraise\u001b[39;00m \u001b[38;5;167;01mValueError\u001b[39;00m(\n\u001b[1;32m    460\u001b[0m         \u001b[38;5;124m\"\u001b[39m\u001b[38;5;124mEngine should not be specified when passing \u001b[39m\u001b[38;5;124m\"\u001b[39m\n\u001b[1;32m    461\u001b[0m         \u001b[38;5;124m\"\u001b[39m\u001b[38;5;124man ExcelFile - ExcelFile already has the engine set\u001b[39m\u001b[38;5;124m\"\u001b[39m\n\u001b[1;32m    462\u001b[0m     )\n",
      "File \u001b[0;32m~/opt/anaconda3/lib/python3.9/site-packages/pandas/io/excel/_base.py:1376\u001b[0m, in \u001b[0;36mExcelFile.__init__\u001b[0;34m(self, path_or_buffer, engine, storage_options)\u001b[0m\n\u001b[1;32m   1374\u001b[0m     ext \u001b[38;5;241m=\u001b[39m \u001b[38;5;124m\"\u001b[39m\u001b[38;5;124mxls\u001b[39m\u001b[38;5;124m\"\u001b[39m\n\u001b[1;32m   1375\u001b[0m \u001b[38;5;28;01melse\u001b[39;00m:\n\u001b[0;32m-> 1376\u001b[0m     ext \u001b[38;5;241m=\u001b[39m \u001b[43minspect_excel_format\u001b[49m\u001b[43m(\u001b[49m\n\u001b[1;32m   1377\u001b[0m \u001b[43m        \u001b[49m\u001b[43mcontent_or_path\u001b[49m\u001b[38;5;241;43m=\u001b[39;49m\u001b[43mpath_or_buffer\u001b[49m\u001b[43m,\u001b[49m\u001b[43m \u001b[49m\u001b[43mstorage_options\u001b[49m\u001b[38;5;241;43m=\u001b[39;49m\u001b[43mstorage_options\u001b[49m\n\u001b[1;32m   1378\u001b[0m \u001b[43m    \u001b[49m\u001b[43m)\u001b[49m\n\u001b[1;32m   1379\u001b[0m     \u001b[38;5;28;01mif\u001b[39;00m ext \u001b[38;5;129;01mis\u001b[39;00m \u001b[38;5;28;01mNone\u001b[39;00m:\n\u001b[1;32m   1380\u001b[0m         \u001b[38;5;28;01mraise\u001b[39;00m \u001b[38;5;167;01mValueError\u001b[39;00m(\n\u001b[1;32m   1381\u001b[0m             \u001b[38;5;124m\"\u001b[39m\u001b[38;5;124mExcel file format cannot be determined, you must specify \u001b[39m\u001b[38;5;124m\"\u001b[39m\n\u001b[1;32m   1382\u001b[0m             \u001b[38;5;124m\"\u001b[39m\u001b[38;5;124man engine manually.\u001b[39m\u001b[38;5;124m\"\u001b[39m\n\u001b[1;32m   1383\u001b[0m         )\n",
      "File \u001b[0;32m~/opt/anaconda3/lib/python3.9/site-packages/pandas/io/excel/_base.py:1250\u001b[0m, in \u001b[0;36minspect_excel_format\u001b[0;34m(content_or_path, storage_options)\u001b[0m\n\u001b[1;32m   1247\u001b[0m \u001b[38;5;28;01mif\u001b[39;00m \u001b[38;5;28misinstance\u001b[39m(content_or_path, \u001b[38;5;28mbytes\u001b[39m):\n\u001b[1;32m   1248\u001b[0m     content_or_path \u001b[38;5;241m=\u001b[39m BytesIO(content_or_path)\n\u001b[0;32m-> 1250\u001b[0m \u001b[38;5;28;01mwith\u001b[39;00m \u001b[43mget_handle\u001b[49m\u001b[43m(\u001b[49m\n\u001b[1;32m   1251\u001b[0m \u001b[43m    \u001b[49m\u001b[43mcontent_or_path\u001b[49m\u001b[43m,\u001b[49m\u001b[43m \u001b[49m\u001b[38;5;124;43m\"\u001b[39;49m\u001b[38;5;124;43mrb\u001b[39;49m\u001b[38;5;124;43m\"\u001b[39;49m\u001b[43m,\u001b[49m\u001b[43m \u001b[49m\u001b[43mstorage_options\u001b[49m\u001b[38;5;241;43m=\u001b[39;49m\u001b[43mstorage_options\u001b[49m\u001b[43m,\u001b[49m\u001b[43m \u001b[49m\u001b[43mis_text\u001b[49m\u001b[38;5;241;43m=\u001b[39;49m\u001b[38;5;28;43;01mFalse\u001b[39;49;00m\n\u001b[1;32m   1252\u001b[0m \u001b[43m\u001b[49m\u001b[43m)\u001b[49m \u001b[38;5;28;01mas\u001b[39;00m handle:\n\u001b[1;32m   1253\u001b[0m     stream \u001b[38;5;241m=\u001b[39m handle\u001b[38;5;241m.\u001b[39mhandle\n\u001b[1;32m   1254\u001b[0m     stream\u001b[38;5;241m.\u001b[39mseek(\u001b[38;5;241m0\u001b[39m)\n",
      "File \u001b[0;32m~/opt/anaconda3/lib/python3.9/site-packages/pandas/io/common.py:798\u001b[0m, in \u001b[0;36mget_handle\u001b[0;34m(path_or_buf, mode, encoding, compression, memory_map, is_text, errors, storage_options)\u001b[0m\n\u001b[1;32m    789\u001b[0m         handle \u001b[38;5;241m=\u001b[39m \u001b[38;5;28mopen\u001b[39m(\n\u001b[1;32m    790\u001b[0m             handle,\n\u001b[1;32m    791\u001b[0m             ioargs\u001b[38;5;241m.\u001b[39mmode,\n\u001b[0;32m   (...)\u001b[0m\n\u001b[1;32m    794\u001b[0m             newline\u001b[38;5;241m=\u001b[39m\u001b[38;5;124m\"\u001b[39m\u001b[38;5;124m\"\u001b[39m,\n\u001b[1;32m    795\u001b[0m         )\n\u001b[1;32m    796\u001b[0m     \u001b[38;5;28;01melse\u001b[39;00m:\n\u001b[1;32m    797\u001b[0m         \u001b[38;5;66;03m# Binary mode\u001b[39;00m\n\u001b[0;32m--> 798\u001b[0m         handle \u001b[38;5;241m=\u001b[39m \u001b[38;5;28;43mopen\u001b[39;49m\u001b[43m(\u001b[49m\u001b[43mhandle\u001b[49m\u001b[43m,\u001b[49m\u001b[43m \u001b[49m\u001b[43mioargs\u001b[49m\u001b[38;5;241;43m.\u001b[39;49m\u001b[43mmode\u001b[49m\u001b[43m)\u001b[49m\n\u001b[1;32m    799\u001b[0m     handles\u001b[38;5;241m.\u001b[39mappend(handle)\n\u001b[1;32m    801\u001b[0m \u001b[38;5;66;03m# Convert BytesIO or file objects passed with an encoding\u001b[39;00m\n",
      "\u001b[0;31mFileNotFoundError\u001b[0m: [Errno 2] No such file or directory: 'us_universities.xlsx'"
     ]
    }
   ],
   "source": [
    "# Read US Universities Data\n",
    "us_uni_data = pd.read_excel(\"us_universities.xlsx\", sheet_name=\"Feuil1\")"
   ]
  },
  {
   "cell_type": "code",
   "execution_count": 7,
   "id": "56e9d1fa",
   "metadata": {},
   "outputs": [
    {
     "data": {
      "text/html": [
       "<div>\n",
       "<style scoped>\n",
       "    .dataframe tbody tr th:only-of-type {\n",
       "        vertical-align: middle;\n",
       "    }\n",
       "\n",
       "    .dataframe tbody tr th {\n",
       "        vertical-align: top;\n",
       "    }\n",
       "\n",
       "    .dataframe thead th {\n",
       "        text-align: right;\n",
       "    }\n",
       "</style>\n",
       "<table border=\"1\" class=\"dataframe\">\n",
       "  <thead>\n",
       "    <tr style=\"text-align: right;\">\n",
       "      <th></th>\n",
       "      <th>Geo Point</th>\n",
       "      <th>Geo Shape</th>\n",
       "      <th>OBJECTID</th>\n",
       "      <th>IPEDSID</th>\n",
       "      <th>NAME</th>\n",
       "      <th>ADDRESS</th>\n",
       "      <th>CITY</th>\n",
       "      <th>STATE</th>\n",
       "      <th>ZIP</th>\n",
       "      <th>ZIP4</th>\n",
       "      <th>...</th>\n",
       "      <th>ALIAS</th>\n",
       "      <th>SIZE_SET</th>\n",
       "      <th>INST_SIZE</th>\n",
       "      <th>PT_ENROLL</th>\n",
       "      <th>FT_ENROLL</th>\n",
       "      <th>TOT_ENROLL</th>\n",
       "      <th>HOUSING</th>\n",
       "      <th>DORM_CAP</th>\n",
       "      <th>TOT_EMP</th>\n",
       "      <th>SHELTER_ID</th>\n",
       "    </tr>\n",
       "  </thead>\n",
       "  <tbody>\n",
       "    <tr>\n",
       "      <th>0</th>\n",
       "      <td>40.51034, -74.269901</td>\n",
       "      <td>{\"coordinates\":[-74.269901,40.51034],\"type\":\"P...</td>\n",
       "      <td>2</td>\n",
       "      <td>481429</td>\n",
       "      <td>UNIVERSAL TRAINING INSTITUTE</td>\n",
       "      <td>174 JEFFERSON STREET</td>\n",
       "      <td>PERTH AMBOY</td>\n",
       "      <td>NJ</td>\n",
       "      <td>8861</td>\n",
       "      <td>4106</td>\n",
       "      <td>...</td>\n",
       "      <td>NOT AVAILABLE</td>\n",
       "      <td>-2</td>\n",
       "      <td>1</td>\n",
       "      <td>-999</td>\n",
       "      <td>176</td>\n",
       "      <td>176</td>\n",
       "      <td>2</td>\n",
       "      <td>-999</td>\n",
       "      <td>15</td>\n",
       "      <td>NOT AVAILABLE</td>\n",
       "    </tr>\n",
       "    <tr>\n",
       "      <th>1</th>\n",
       "      <td>30.196152736000045, -81.750962384</td>\n",
       "      <td>{\"coordinates\":[-81.750962384,30.1961527360000...</td>\n",
       "      <td>107</td>\n",
       "      <td>487436</td>\n",
       "      <td>FLORIDA CAREER COLLEGE-JACKSONVILLE</td>\n",
       "      <td>6600 YOUNGERMAN CIRCLE</td>\n",
       "      <td>JACKSONVILLE</td>\n",
       "      <td>FL</td>\n",
       "      <td>32244</td>\n",
       "      <td>6663</td>\n",
       "      <td>...</td>\n",
       "      <td>NOT AVAILABLE</td>\n",
       "      <td>-2</td>\n",
       "      <td>1</td>\n",
       "      <td>-999</td>\n",
       "      <td>684</td>\n",
       "      <td>684</td>\n",
       "      <td>2</td>\n",
       "      <td>-999</td>\n",
       "      <td>51</td>\n",
       "      <td>NOT AVAILABLE</td>\n",
       "    </tr>\n",
       "    <tr>\n",
       "      <th>2</th>\n",
       "      <td>37.059806870000045, -100.91769495299997</td>\n",
       "      <td>{\"coordinates\":[-100.91769495299997,37.0598068...</td>\n",
       "      <td>142</td>\n",
       "      <td>155858</td>\n",
       "      <td>SEWARD COUNTY COMMUNITY COLLEGE</td>\n",
       "      <td>1801 N. KANSAS AVE.</td>\n",
       "      <td>LIBERAL</td>\n",
       "      <td>KS</td>\n",
       "      <td>67901</td>\n",
       "      <td>NOT AVAILABLE</td>\n",
       "      <td>...</td>\n",
       "      <td>SCCC</td>\n",
       "      <td>4</td>\n",
       "      <td>2</td>\n",
       "      <td>902</td>\n",
       "      <td>678</td>\n",
       "      <td>1580</td>\n",
       "      <td>1</td>\n",
       "      <td>240</td>\n",
       "      <td>261</td>\n",
       "      <td>NOT AVAILABLE</td>\n",
       "    </tr>\n",
       "    <tr>\n",
       "      <th>3</th>\n",
       "      <td>38.21978295900004, -98.20996615899998</td>\n",
       "      <td>{\"coordinates\":[-98.20996615899998,38.21978295...</td>\n",
       "      <td>143</td>\n",
       "      <td>155937</td>\n",
       "      <td>STERLING COLLEGE</td>\n",
       "      <td>125 W. COOPER</td>\n",
       "      <td>STERLING</td>\n",
       "      <td>KS</td>\n",
       "      <td>67579</td>\n",
       "      <td>NOT AVAILABLE</td>\n",
       "      <td>...</td>\n",
       "      <td>SC</td>\n",
       "      <td>22</td>\n",
       "      <td>1</td>\n",
       "      <td>136</td>\n",
       "      <td>542</td>\n",
       "      <td>678</td>\n",
       "      <td>1</td>\n",
       "      <td>635</td>\n",
       "      <td>172</td>\n",
       "      <td>NOT AVAILABLE</td>\n",
       "    </tr>\n",
       "    <tr>\n",
       "      <th>4</th>\n",
       "      <td>25.75711093600006, -80.37759051699999</td>\n",
       "      <td>{\"coordinates\":[-80.37759051699999,25.75711093...</td>\n",
       "      <td>148</td>\n",
       "      <td>133951</td>\n",
       "      <td>FLORIDA INTERNATIONAL UNIVERSITY</td>\n",
       "      <td>11200 S. W. 8 STREET</td>\n",
       "      <td>MIAMI</td>\n",
       "      <td>FL</td>\n",
       "      <td>33199</td>\n",
       "      <td>NOT AVAILABLE</td>\n",
       "      <td>...</td>\n",
       "      <td>FIU</td>\n",
       "      <td>15</td>\n",
       "      <td>5</td>\n",
       "      <td>23980</td>\n",
       "      <td>34856</td>\n",
       "      <td>58836</td>\n",
       "      <td>1</td>\n",
       "      <td>3710</td>\n",
       "      <td>6574</td>\n",
       "      <td>NOT AVAILABLE</td>\n",
       "    </tr>\n",
       "  </tbody>\n",
       "</table>\n",
       "<p>5 rows × 45 columns</p>\n",
       "</div>"
      ],
      "text/plain": [
       "                                 Geo Point  \\\n",
       "0                     40.51034, -74.269901   \n",
       "1        30.196152736000045, -81.750962384   \n",
       "2  37.059806870000045, -100.91769495299997   \n",
       "3    38.21978295900004, -98.20996615899998   \n",
       "4    25.75711093600006, -80.37759051699999   \n",
       "\n",
       "                                           Geo Shape  OBJECTID  IPEDSID  \\\n",
       "0  {\"coordinates\":[-74.269901,40.51034],\"type\":\"P...         2   481429   \n",
       "1  {\"coordinates\":[-81.750962384,30.1961527360000...       107   487436   \n",
       "2  {\"coordinates\":[-100.91769495299997,37.0598068...       142   155858   \n",
       "3  {\"coordinates\":[-98.20996615899998,38.21978295...       143   155937   \n",
       "4  {\"coordinates\":[-80.37759051699999,25.75711093...       148   133951   \n",
       "\n",
       "                                  NAME                 ADDRESS          CITY  \\\n",
       "0         UNIVERSAL TRAINING INSTITUTE    174 JEFFERSON STREET   PERTH AMBOY   \n",
       "1  FLORIDA CAREER COLLEGE-JACKSONVILLE  6600 YOUNGERMAN CIRCLE  JACKSONVILLE   \n",
       "2      SEWARD COUNTY COMMUNITY COLLEGE     1801 N. KANSAS AVE.       LIBERAL   \n",
       "3                     STERLING COLLEGE           125 W. COOPER      STERLING   \n",
       "4     FLORIDA INTERNATIONAL UNIVERSITY    11200 S. W. 8 STREET         MIAMI   \n",
       "\n",
       "  STATE    ZIP           ZIP4  ...          ALIAS  SIZE_SET INST_SIZE  \\\n",
       "0    NJ   8861           4106  ...  NOT AVAILABLE        -2         1   \n",
       "1    FL  32244           6663  ...  NOT AVAILABLE        -2         1   \n",
       "2    KS  67901  NOT AVAILABLE  ...           SCCC         4         2   \n",
       "3    KS  67579  NOT AVAILABLE  ...             SC        22         1   \n",
       "4    FL  33199  NOT AVAILABLE  ...            FIU        15         5   \n",
       "\n",
       "   PT_ENROLL FT_ENROLL TOT_ENROLL HOUSING  DORM_CAP  TOT_EMP     SHELTER_ID  \n",
       "0       -999       176        176       2      -999       15  NOT AVAILABLE  \n",
       "1       -999       684        684       2      -999       51  NOT AVAILABLE  \n",
       "2        902       678       1580       1       240      261  NOT AVAILABLE  \n",
       "3        136       542        678       1       635      172  NOT AVAILABLE  \n",
       "4      23980     34856      58836       1      3710     6574  NOT AVAILABLE  \n",
       "\n",
       "[5 rows x 45 columns]"
      ]
     },
     "execution_count": 7,
     "metadata": {},
     "output_type": "execute_result"
    }
   ],
   "source": [
    "us_uni_data.head()"
   ]
  },
  {
   "cell_type": "code",
   "execution_count": 17,
   "id": "11ac1940",
   "metadata": {},
   "outputs": [
    {
     "data": {
      "text/plain": [
       "(6559, 45)"
      ]
     },
     "execution_count": 17,
     "metadata": {},
     "output_type": "execute_result"
    }
   ],
   "source": [
    "# Get the data dimension\n",
    "us_uni_data.shape"
   ]
  },
  {
   "cell_type": "code",
   "execution_count": 18,
   "id": "977ba0e5",
   "metadata": {},
   "outputs": [
    {
     "data": {
      "text/plain": [
       "<bound method NDFrame.describe of                                     Geo Point  \\\n",
       "0                        40.51034, -74.269901   \n",
       "1           30.196152736000045, -81.750962384   \n",
       "2     37.059806870000045, -100.91769495299997   \n",
       "3       38.21978295900004, -98.20996615899998   \n",
       "4       25.75711093600006, -80.37759051699999   \n",
       "...                                       ...   \n",
       "6554   46.21205972900003, -119.16192006499995   \n",
       "6555   35.47143955400003, -120.65278398599997   \n",
       "6556  32.827544214000056, -115.50397685999997   \n",
       "6557   18.150789304000057, -65.82456820299996   \n",
       "6558   32.378447212000026, -86.31101660699994   \n",
       "\n",
       "                                              Geo Shape  OBJECTID  IPEDSID  \\\n",
       "0     {\"coordinates\":[-74.269901,40.51034],\"type\":\"P...         2   481429   \n",
       "1     {\"coordinates\":[-81.750962384,30.1961527360000...       107   487436   \n",
       "2     {\"coordinates\":[-100.91769495299997,37.0598068...       142   155858   \n",
       "3     {\"coordinates\":[-98.20996615899998,38.21978295...       143   155937   \n",
       "4     {\"coordinates\":[-80.37759051699999,25.75711093...       148   133951   \n",
       "...                                                 ...       ...      ...   \n",
       "6554  {\"coordinates\":[-119.16192006499995,46.2120597...      6404   495147   \n",
       "6555  {\"coordinates\":[-120.65278398599997,35.4714395...      6431   495943   \n",
       "6556  {\"coordinates\":[-115.50397685999997,32.8275442...      6495   494135   \n",
       "6557  {\"coordinates\":[-65.82456820299996,18.15078930...      6506   494278   \n",
       "6558  {\"coordinates\":[-86.31101660699994,32.37844721...      6514   494366   \n",
       "\n",
       "                                        NAME                        ADDRESS  \\\n",
       "0               UNIVERSAL TRAINING INSTITUTE           174 JEFFERSON STREET   \n",
       "1        FLORIDA CAREER COLLEGE-JACKSONVILLE         6600 YOUNGERMAN CIRCLE   \n",
       "2            SEWARD COUNTY COMMUNITY COLLEGE            1801 N. KANSAS AVE.   \n",
       "3                           STERLING COLLEGE                  125 W. COOPER   \n",
       "4           FLORIDA INTERNATIONAL UNIVERSITY           11200 S. W. 8 STREET   \n",
       "...                                      ...                            ...   \n",
       "6554          GATHER 4 HIM CHRISTIAN COLLEGE    3021 WEST CLEARWATER AVENUE   \n",
       "6555   SAN JOAQUIN VALLEY COLLEGE-ATASCADERO            8845 EL CAMINO REAL   \n",
       "6556             COLUMBIA COLLEGE - IMPERIAL               380 E. ATEN ROAD   \n",
       "6557   EDP UNIVERSITY OF PUERTO RICO-HUMACAO  ANTONIO LOPEZ STREET #4 AND 6   \n",
       "6558  STRAYER UNIVERSITY - MONTGOMERY CAMPUS     79 COMMERCE STREET SUITE C   \n",
       "\n",
       "              CITY STATE    ZIP           ZIP4  ...          ALIAS  SIZE_SET  \\\n",
       "0      PERTH AMBOY    NJ   8861           4106  ...  NOT AVAILABLE        -2   \n",
       "1     JACKSONVILLE    FL  32244           6663  ...  NOT AVAILABLE        -2   \n",
       "2          LIBERAL    KS  67901  NOT AVAILABLE  ...           SCCC         4   \n",
       "3         STERLING    KS  67579  NOT AVAILABLE  ...             SC        22   \n",
       "4            MIAMI    FL  33199  NOT AVAILABLE  ...            FIU        15   \n",
       "...            ...   ...    ...            ...  ...            ...       ...   \n",
       "6554     KENNEWICK    WA  99336           5144  ...  NOT AVAILABLE        -2   \n",
       "6555    ATASCADERO    CA  93422           5333  ...  NOT AVAILABLE        -2   \n",
       "6556      IMPERIAL    CA  92251           0158  ...  NOT AVAILABLE        -2   \n",
       "6557       HUMACAO    PR    791           0000  ...  NOT AVAILABLE        -2   \n",
       "6558    MONTGOMERY    AL  36104           3529  ...  NOT AVAILABLE        -2   \n",
       "\n",
       "     INST_SIZE  PT_ENROLL FT_ENROLL TOT_ENROLL HOUSING  DORM_CAP  TOT_EMP  \\\n",
       "0            1       -999       176        176       2      -999       15   \n",
       "1            1       -999       684        684       2      -999       51   \n",
       "2            2        902       678       1580       1       240      261   \n",
       "3            1        136       542        678       1       635      172   \n",
       "4            5      23980     34856      58836       1      3710     6574   \n",
       "...        ...        ...       ...        ...     ...       ...      ...   \n",
       "6554         1         11        29         40       2      -999       20   \n",
       "6555         1       -999        63         63       2      -999        7   \n",
       "6556        -2       -999      -999       -999      -1      -999     -999   \n",
       "6557         1        105        77        182       2      -999       16   \n",
       "6558        -2       -999      -999       -999      -1      -999     -999   \n",
       "\n",
       "         SHELTER_ID  \n",
       "0     NOT AVAILABLE  \n",
       "1     NOT AVAILABLE  \n",
       "2     NOT AVAILABLE  \n",
       "3     NOT AVAILABLE  \n",
       "4     NOT AVAILABLE  \n",
       "...             ...  \n",
       "6554  NOT AVAILABLE  \n",
       "6555  NOT AVAILABLE  \n",
       "6556  NOT AVAILABLE  \n",
       "6557  NOT AVAILABLE  \n",
       "6558  NOT AVAILABLE  \n",
       "\n",
       "[6559 rows x 45 columns]>"
      ]
     },
     "execution_count": 18,
     "metadata": {},
     "output_type": "execute_result"
    }
   ],
   "source": [
    "# Summary\n",
    "us_uni_data.describe"
   ]
  },
  {
   "cell_type": "code",
   "execution_count": 21,
   "id": "fd7b4ad1",
   "metadata": {},
   "outputs": [
    {
     "data": {
      "text/plain": [
       "Geo Point      object\n",
       "Geo Shape      object\n",
       "OBJECTID        int64\n",
       "IPEDSID         int64\n",
       "NAME           object\n",
       "ADDRESS        object\n",
       "CITY           object\n",
       "STATE          object\n",
       "ZIP             int64\n",
       "ZIP4           object\n",
       "TELEPHONE      object\n",
       "TYPE            int64\n",
       "STATUS         object\n",
       "POPULATION      int64\n",
       "COUNTY         object\n",
       "COUNTYFIPS     object\n",
       "COUNTRY        object\n",
       "LATITUDE      float64\n",
       "LONGITUDE     float64\n",
       "NAICS_CODE      int64\n",
       "NAICS_DESC     object\n",
       "SOURCE         object\n",
       "SOURCEDATE     object\n",
       "VAL_METHOD     object\n",
       "VAL_DATE       object\n",
       "WEBSITE        object\n",
       "STFIPS         object\n",
       "COFIPS         object\n",
       "SECTOR          int64\n",
       "LEVEL_          int64\n",
       "HI_OFFER        int64\n",
       "DEG_GRANT       int64\n",
       "LOCALE          int64\n",
       "CLOSE_DATE     object\n",
       "MERGE_ID        int64\n",
       "ALIAS          object\n",
       "SIZE_SET        int64\n",
       "INST_SIZE       int64\n",
       "PT_ENROLL       int64\n",
       "FT_ENROLL       int64\n",
       "TOT_ENROLL      int64\n",
       "HOUSING         int64\n",
       "DORM_CAP        int64\n",
       "TOT_EMP         int64\n",
       "SHELTER_ID     object\n",
       "dtype: object"
      ]
     },
     "execution_count": 21,
     "metadata": {},
     "output_type": "execute_result"
    }
   ],
   "source": [
    "# Data types of columns\n",
    "us_uni_data.dtypes"
   ]
  },
  {
   "cell_type": "code",
   "execution_count": 10,
   "id": "90fbd35f",
   "metadata": {},
   "outputs": [
    {
     "name": "stdout",
     "output_type": "stream",
     "text": [
      "Column wise unknown or missing values in Daibetes Data Set:\n",
      " Geo Point     0\n",
      "Geo Shape     0\n",
      "OBJECTID      0\n",
      "IPEDSID       0\n",
      "NAME          0\n",
      "ADDRESS       1\n",
      "CITY          0\n",
      "STATE         0\n",
      "ZIP           0\n",
      "ZIP4          0\n",
      "TELEPHONE     0\n",
      "TYPE          0\n",
      "STATUS        0\n",
      "POPULATION    0\n",
      "COUNTY        0\n",
      "COUNTYFIPS    0\n",
      "COUNTRY       0\n",
      "LATITUDE      0\n",
      "LONGITUDE     0\n",
      "NAICS_CODE    0\n",
      "NAICS_DESC    0\n",
      "SOURCE        0\n",
      "SOURCEDATE    0\n",
      "VAL_METHOD    0\n",
      "VAL_DATE      0\n",
      "WEBSITE       0\n",
      "STFIPS        0\n",
      "COFIPS        0\n",
      "SECTOR        0\n",
      "LEVEL_        0\n",
      "HI_OFFER      0\n",
      "DEG_GRANT     0\n",
      "LOCALE        0\n",
      "CLOSE_DATE    0\n",
      "MERGE_ID      0\n",
      "ALIAS         1\n",
      "SIZE_SET      0\n",
      "INST_SIZE     0\n",
      "PT_ENROLL     0\n",
      "FT_ENROLL     0\n",
      "TOT_ENROLL    0\n",
      "HOUSING       0\n",
      "DORM_CAP      0\n",
      "TOT_EMP       0\n",
      "SHELTER_ID    0\n",
      "dtype: int64\n"
     ]
    }
   ],
   "source": [
    "missing_values = us_uni_data.isna().sum()\n",
    "print(\"Column wise unknown or missing values in Daibetes Data Set:\\n\", missing_values)"
   ]
  },
  {
   "cell_type": "code",
   "execution_count": 11,
   "id": "feabfa93",
   "metadata": {},
   "outputs": [
    {
     "name": "stdout",
     "output_type": "stream",
     "text": [
      "Unique values in Geo Point: ['40.51034, -74.269901' '30.196152736000045, -81.750962384'\n",
      " '37.059806870000045, -100.91769495299997' ...\n",
      " '32.827544214000056, -115.50397685999997'\n",
      " '18.150789304000057, -65.82456820299996'\n",
      " '32.378447212000026, -86.31101660699994']\n",
      "Unique values in Geo Shape: ['{\"coordinates\":[-74.269901,40.51034],\"type\":\"Point\"}'\n",
      " '{\"coordinates\":[-81.750962384,30.196152736000045],\"type\":\"Point\"}'\n",
      " '{\"coordinates\":[-100.91769495299997,37.059806870000045],\"type\":\"Point\"}'\n",
      " ...\n",
      " '{\"coordinates\":[-115.50397685999997,32.827544214000056],\"type\":\"Point\"}'\n",
      " '{\"coordinates\":[-65.82456820299996,18.150789304000057],\"type\":\"Point\"}'\n",
      " '{\"coordinates\":[-86.31101660699994,32.378447212000026],\"type\":\"Point\"}']\n",
      "Unique values in OBJECTID: [   2  107  142 ... 6495 6506 6514]\n",
      "Unique values in IPEDSID: [481429 487436 155858 ... 495943 494135 494366]\n",
      "Unique values in NAME: ['UNIVERSAL TRAINING INSTITUTE' 'FLORIDA CAREER COLLEGE-JACKSONVILLE'\n",
      " 'SEWARD COUNTY COMMUNITY COLLEGE' ...\n",
      " 'SAN JOAQUIN VALLEY COLLEGE-ATASCADERO' 'COLUMBIA COLLEGE - IMPERIAL'\n",
      " 'STRAYER UNIVERSITY - MONTGOMERY CAMPUS']\n",
      "Unique values in ADDRESS: ['174 JEFFERSON STREET' '6600 YOUNGERMAN CIRCLE' '1801 N. KANSAS AVE.' ...\n",
      " '3021 WEST CLEARWATER AVENUE' '8845 EL CAMINO REAL'\n",
      " '79 COMMERCE STREET SUITE C']\n",
      "Unique values in CITY: ['PERTH AMBOY' 'JACKSONVILLE' 'LIBERAL' ... 'COLUMBIA STATION' 'PETALUMA'\n",
      " 'ATASCADERO']\n",
      "Unique values in STATE: ['NJ' 'FL' 'KS' 'IA' 'WV' 'IN' 'CA' 'MN' 'OK' 'TX' 'OR' 'PA' 'NC' 'CT'\n",
      " 'TN' 'SC' 'OH' 'MA' 'GA' 'NY' 'MO' 'LA' 'UT' 'MI' 'AR' 'DC' 'ND' 'PR'\n",
      " 'NE' 'WI' 'VA' 'CO' 'IL' 'KY' 'MT' 'MD' 'RI' 'MS' 'ID' 'NV' 'ME' 'NM'\n",
      " 'AZ' 'WA' 'DE' 'NH' 'SD' 'AL' 'MP' 'WY' 'VT' 'AK' 'GU' 'HI' 'MH' 'VI'\n",
      " 'AS' 'PW' 'FM']\n",
      "Unique values in ZIP: [ 8861 32244 67901 ... 44028 94952 93422]\n",
      "Unique values in ZIP4: ['4106' '6663' 'NOT AVAILABLE' ... '4633' '5144' '5333']\n",
      "Unique values in TELEPHONE: ['(732) 826-0155 EXT 106' '(904) 418-5201' '(620) 624-1951' ...\n",
      " '(707) 765-1836' '(509) 420-4545' '(787) 719-2236']\n",
      "Unique values in TYPE: [ 3  1  2 -3]\n",
      "Unique values in STATUS: ['A' 'M' 'R' 'G' 'N' 'C' 'D']\n",
      "Unique values in POPULATION: [ 191  735 1841 ... 1196 1161 5565]\n",
      "Unique values in COUNTY: ['MIDDLESEX' 'DUVAL' 'SEWARD' ... 'TAOS' 'ITASCA' 'PEARL RIVER']\n",
      "Unique values in COUNTYFIPS: ['34023' '12031' '20175' ... '21209' '27061' '28109']\n",
      "Unique values in COUNTRY: ['USA' 'PRI' 'MNP' 'GUM' 'MHL' 'VIR' 'ASM' 'PLW' 'FSM']\n",
      "Unique values in LATITUDE: [40.51034    30.19615274 37.05980687 ... 32.82754421 18.1507893\n",
      " 32.37844721]\n",
      "Unique values in LONGITUDE: [ -74.269901    -81.75096238 -100.91769495 ... -115.50397686  -65.8245682\n",
      "  -86.31101661]\n",
      "Unique values in NAICS_CODE: [611519 611210 611310 611511 611710 611610 611410 611420 611512]\n",
      "Unique values in NAICS_DESC: ['OTHER TECHNICAL AND TRADE SCHOOLS' 'JUNIOR COLLEGES'\n",
      " 'COLLEGES, UNIVERSITIES, AND PROFESSIONAL SCHOOLS'\n",
      " 'COSMETOLOGY AND BARBER SCHOOLS' 'EDUCATIONAL SUPPORT SERVICES'\n",
      " 'FINE ARTS SCHOOLS' 'BUSINESS AND SECRETARIAL SCHOOLS'\n",
      " 'COMPUTER TRAINING' 'FLIGHT TRAINING']\n",
      "Unique values in SOURCE: ['https://nces.ed.gov/collegenavigator/?id=481429'\n",
      " 'https://nces.ed.gov/collegenavigator/?id=487436'\n",
      " 'https://nces.ed.gov/collegenavigator/?id=155858' ...\n",
      " 'https://nces.ed.gov/GLOBALLOCATOR/col_info_popup.asp?ID=494135'\n",
      " 'https://nces.ed.gov/GLOBALLOCATOR/col_info_popup.asp?ID=494278'\n",
      " 'https://nces.ed.gov/GLOBALLOCATOR/col_info_popup.asp?ID=494366']\n",
      "Unique values in SOURCEDATE: ['2015-08-10T00:00:00Z' '2018-02-13T00:00:00Z' '2009-10-13T00:00:00Z'\n",
      " '2009-12-31T00:00:00Z' '2018-04-10T00:00:00Z' '2013-06-25T00:00:00Z'\n",
      " '2016-01-21T00:00:00Z' '2009-12-10T00:00:00Z' '2011-06-02T00:00:00Z'\n",
      " '2013-11-04T00:00:00Z' '2018-11-06T00:00:00Z' '2020-11-03T00:00:00Z'\n",
      " '2021-10-13T00:00:00Z' '2011-06-01T00:00:00Z' '2019-12-04T00:00:00Z'\n",
      " '2020-09-15T00:00:00Z' '2018-11-16T00:00:00Z' '2019-02-27T00:00:00Z']\n",
      "Unique values in VAL_METHOD: ['IMAGERY/OTHER' 'IMAGERY' 'GEOCODE' 'UNVERIFIED']\n",
      "Unique values in VAL_DATE: ['2015-11-12T00:00:00Z' '2018-02-16T00:00:00Z' '2016-08-10T00:00:00Z'\n",
      " '2016-07-07T00:00:00Z' '2018-04-10T00:00:00Z' '2022-05-25T00:00:00Z'\n",
      " '2016-08-17T00:00:00Z' '2019-04-16T00:00:00Z' '2016-08-18T00:00:00Z'\n",
      " '2019-03-19T00:00:00Z' '2016-08-19T00:00:00Z' '2016-08-16T00:00:00Z'\n",
      " '2015-10-20T00:00:00Z' '2016-05-25T00:00:00Z' '2016-08-24T00:00:00Z'\n",
      " '2022-06-25T00:00:00Z' '2016-08-15T00:00:00Z' '2020-01-31T00:00:00Z'\n",
      " '2016-08-12T00:00:00Z' '2015-08-26T00:00:00Z' '2016-01-21T00:00:00Z'\n",
      " '2016-01-22T00:00:00Z' '2016-08-11T00:00:00Z' '2019-04-23T00:00:00Z'\n",
      " '2015-11-10T00:00:00Z' '2019-03-27T00:00:00Z' '2016-07-08T00:00:00Z'\n",
      " '2015-10-27T00:00:00Z' '2015-11-17T00:00:00Z' '2016-08-01T00:00:00Z'\n",
      " '2015-10-21T00:00:00Z' '2019-03-14T00:00:00Z' '2016-06-08T00:00:00Z'\n",
      " '2016-05-20T00:00:00Z' '2016-06-29T00:00:00Z' '2016-06-15T00:00:00Z'\n",
      " '2016-06-16T00:00:00Z' '2016-07-01T00:00:00Z' '2015-11-20T00:00:00Z'\n",
      " '2015-10-14T00:00:00Z' '2016-06-17T00:00:00Z' '2019-03-28T00:00:00Z'\n",
      " '2016-06-21T00:00:00Z' '2016-07-05T00:00:00Z' '2016-07-06T00:00:00Z'\n",
      " '2016-05-19T00:00:00Z' '2020-01-29T00:00:00Z' '2016-06-09T00:00:00Z'\n",
      " '2015-11-03T00:00:00Z' '2015-10-16T00:00:00Z' '2016-06-14T00:00:00Z'\n",
      " '2019-01-29T00:00:00Z' '2015-10-28T00:00:00Z' '2016-05-24T00:00:00Z'\n",
      " '2019-01-31T00:00:00Z' '2019-03-25T00:00:00Z' '2016-08-22T00:00:00Z'\n",
      " '2015-11-24T00:00:00Z' '2016-07-29T00:00:00Z' '2016-08-08T00:00:00Z'\n",
      " '2016-06-03T00:00:00Z' '2016-08-05T00:00:00Z' '2016-07-27T00:00:00Z'\n",
      " '2016-06-06T00:00:00Z' '2019-04-05T00:00:00Z' '2019-01-24T00:00:00Z'\n",
      " '2016-06-22T00:00:00Z' '2016-06-30T00:00:00Z' '2016-06-07T00:00:00Z'\n",
      " '2018-11-09T00:00:00Z' '2020-11-03T00:00:00Z' '2018-02-19T00:00:00Z'\n",
      " '2015-11-09T00:00:00Z' '2016-05-26T00:00:00Z' '2016-08-23T00:00:00Z'\n",
      " '2016-08-09T00:00:00Z' '2019-02-01T00:00:00Z' '2019-04-12T00:00:00Z'\n",
      " '2019-03-07T00:00:00Z' '2016-07-14T00:00:00Z' '2016-05-18T00:00:00Z'\n",
      " '2016-07-15T00:00:00Z' '2016-08-03T00:00:00Z' '2016-06-02T00:00:00Z'\n",
      " '2019-04-08T00:00:00Z' '2016-06-01T00:00:00Z' '2016-06-10T00:00:00Z'\n",
      " '2019-03-18T00:00:00Z' '2015-11-23T00:00:00Z' '2016-06-20T00:00:00Z'\n",
      " '2016-06-24T00:00:00Z' '2019-04-11T00:00:00Z' '2019-03-20T00:00:00Z'\n",
      " '2015-11-05T00:00:00Z' '2016-06-13T00:00:00Z' '2019-03-21T00:00:00Z'\n",
      " '2016-07-18T00:00:00Z' '2016-07-28T00:00:00Z' '2016-07-13T00:00:00Z'\n",
      " '2016-07-26T00:00:00Z' '2016-08-04T00:00:00Z' '2019-01-30T00:00:00Z'\n",
      " '2016-05-31T00:00:00Z' '2018-11-08T00:00:00Z' '2019-12-16T00:00:00Z'\n",
      " '2021-05-12T00:00:00Z' '2019-04-01T00:00:00Z' '2016-05-23T00:00:00Z'\n",
      " '2020-01-30T00:00:00Z' '2016-07-11T00:00:00Z' '2016-07-12T00:00:00Z'\n",
      " '2019-02-25T00:00:00Z' '2019-04-15T00:00:00Z' '2020-02-10T00:00:00Z'\n",
      " '2019-03-22T00:00:00Z' '2015-10-15T00:00:00Z' '2015-12-01T00:00:00Z'\n",
      " '2015-10-29T00:00:00Z' '2015-08-25T00:00:00Z' '2015-11-04T00:00:00Z'\n",
      " '2016-06-27T00:00:00Z' '2016-05-27T00:00:00Z' '2016-07-22T00:00:00Z'\n",
      " '2016-06-23T00:00:00Z' '2016-08-02T00:00:00Z' '2019-03-26T00:00:00Z'\n",
      " '2018-11-12T00:00:00Z' '2019-12-13T00:00:00Z' '2018-02-15T00:00:00Z'\n",
      " '2015-09-02T00:00:00Z' '2015-09-04T00:00:00Z' '2016-07-25T00:00:00Z'\n",
      " '2019-03-06T00:00:00Z' '2015-10-23T00:00:00Z' '2019-03-29T00:00:00Z'\n",
      " '2015-11-19T00:00:00Z' '2016-07-19T00:00:00Z' '2016-06-28T00:00:00Z'\n",
      " '2019-03-11T00:00:00Z' '2015-11-02T00:00:00Z' '2022-06-30T00:00:00Z'\n",
      " '2019-04-04T00:00:00Z' '2019-12-18T00:00:00Z' '2015-11-13T00:00:00Z'\n",
      " '2016-08-25T00:00:00Z' '2019-01-28T00:00:00Z' '2015-10-19T00:00:00Z'\n",
      " '2018-11-15T00:00:00Z' '2019-04-25T00:00:00Z' '2018-02-20T00:00:00Z'\n",
      " '2019-04-09T00:00:00Z' '2015-10-26T00:00:00Z' '2018-11-07T00:00:00Z'\n",
      " '2018-11-13T00:00:00Z' '2015-10-13T00:00:00Z' '2015-11-18T00:00:00Z'\n",
      " '2019-04-10T00:00:00Z' '2019-03-08T00:00:00Z' '2019-03-13T00:00:00Z'\n",
      " '2015-11-06T00:00:00Z' '2015-11-25T00:00:00Z' '2015-11-11T00:00:00Z'\n",
      " '2019-12-17T00:00:00Z' '2019-04-02T00:00:00Z' '2019-04-18T00:00:00Z'\n",
      " '2019-04-22T00:00:00Z' '2019-01-25T00:00:00Z' '2019-03-15T00:00:00Z'\n",
      " '2015-09-03T00:00:00Z' '2015-10-30T00:00:00Z' '2015-11-16T00:00:00Z'\n",
      " '2019-12-12T00:00:00Z' '2018-11-16T00:00:00Z' '2019-03-12T00:00:00Z'\n",
      " '2019-02-04T00:00:00Z' '2019-04-17T00:00:00Z' '2022-07-18T00:00:00Z'\n",
      " '2015-11-30T00:00:00Z' '2015-10-12T00:00:00Z' '2020-02-11T00:00:00Z'\n",
      " '2019-04-03T00:00:00Z' '2020-02-19T00:00:00Z' '2018-11-06T00:00:00Z'\n",
      " '2019-02-22T00:00:00Z' '2019-04-24T00:00:00Z']\n",
      "Unique values in WEBSITE: ['www.universaluti.edu/' 'https://www.floridacareercollege.edu/'\n",
      " 'www.sccc.edu/' ... 'meridianuniversity.edu/' 'picollege.edu/'\n",
      " 'https://college.gather4him.net/']\n",
      "Unique values in STFIPS: ['34' '12' '20' '19' '54' '18' '06' '27' '40' '48' '41' '42' '37' '09'\n",
      " '47' '45' '39' '25' '13' '36' '29' '22' '49' '26' '05' '11' '38' '72'\n",
      " '31' '55' '51' '08' '17' '21' '30' '24' '44' '28' '16' '32' '23' '35'\n",
      " '04' '53' '10' '33' '46' '01' '69' '56' '50' '02' '66' '15'\n",
      " 'NOT AVAILABLE' '78' '60']\n",
      "Unique values in COFIPS: ['023' '031' '175' '159' '086' '187' '003' '097' '019' '137' '151' '085'\n",
      " '051' '005' '201' '091' '071' '007' '109' '009' '101' '037' '055' '017'\n",
      " '173' '013' '057' '061' '119' '079' '095' '103' '065' '125' '027' '001'\n",
      " '285' '077' '047' '131' '029' '011' '063' '073' '089' '183' '025' '510'\n",
      " '083' '053' '041' '067' '127' '113' '169' '021' '045' '111' '139' '135'\n",
      " '099' '133' '375' '093' '161' '155' '191' '035' '043' '195' '049' '039'\n",
      " '115' '469' '105' '193' '081' '145' '121' '087' '660' '015' '059' '123'\n",
      " '439' '033' '167' '157' '189' '481' '141' '179' '069' '265' '129' '710'\n",
      " '171' '149' '107' '233' '299' '760' '110' '147' '239' '680' '163' '453'\n",
      " '215' '770' '177' '520' '165' '143' '075' '441' '020' '810' '491' '028'\n",
      " '730' '499' '700' '257' '477' '277' '153' '010' '203' '185' '790' '339'\n",
      " '117' '197' '090' '303' '209' '323' '650' '261' '235' '329' '245' '181'\n",
      " '247' '225' '678' '243' '590' '550' '231' '451' '570' '355' '449' '217'\n",
      " '241' '423' 'NOT AVAILABLE' '630' '471' '479' '279' '213' '775' '255'\n",
      " '487' '227' '415' '199' '251' '620' '281' '205' '275' '219' '473' '309'\n",
      " '830' '122' '750' '367' '170' '313' '030' '800' '840' '050' '381' '273'\n",
      " '485' '102' '006' '463' '361' '365' '078' '349' '347' '311' '409' '014'\n",
      " '530']\n",
      "Unique values in SECTOR: [ 9  6  4  2  1  3  7  5 99  0  8]\n",
      "Unique values in LEVEL_: [ 1  2  3 -3]\n",
      "Unique values in HI_OFFER: [ 0 40 20 11 13 30 14 12 -3  2  7  3  4  5  9  1]\n",
      "Unique values in DEG_GRANT: [ 2  1 -3]\n",
      "Unique values in LOCALE: [21 11 33 42 22 13 41 12 32 43 23 31 -3]\n",
      "Unique values in CLOSE_DATE: ['-2' '09/13/2020' '12/31/2020' '12/07/2020' '07/29/2020' '08/21/2020'\n",
      " '10/23/2020' '12/19/2019' '12/23/2020' '06/19/2020' '02/28/2020'\n",
      " '02/26/2021' '03/31/2020' '07/26/2020' '06/25/2020' '08/13/2020'\n",
      " '07/11/2020' '10/16/2020' '03/05/2020' '03/23/2020' '09/17/2020'\n",
      " '06/11/2020' '07/01/2020' '06/30/2020' '02/08/2021' '07/17/2020'\n",
      " '07/31/2020' '01/29/2021' '08/07/2019' '04/27/2020' '08/29/2020'\n",
      " '04/26/2020' '03/02/2020' '12/17/2020' '05/08/2020' '02/05/2021'\n",
      " '01/01/2021' '12/28/2020' '01/07/2021' '09/27/2020' '10/31/2020'\n",
      " '04/30/2020' '11/16/2020' '05/16/2020' '07/16/2019']\n",
      "Unique values in MERGE_ID: [    -2 455196 177065 242972 450988 495767 190549 224615 490221 483258\n",
      " 136826 207500 114734 143297 124292 137351 455956 486169 444732 194763\n",
      " 179043 168847 461087 104151 125091 169479 233277 480028 171100 444529\n",
      " 461856 121691 195544 444343 495013 447847 155353 475033 459374 148487\n",
      " 227979 450377 483124 130174 168555 147369 461829 145600 151801 235237\n",
      " 476993 484862 475015 223001 484002 491756 169080 449700 180489 491783]\n",
      "Unique values in ALIAS: ['NOT AVAILABLE' 'SCCC' 'SC' ... 'BENNETT COLLEGE / BENNETT'\n",
      " \"MOUNT ST. MARY'S SEMINARY & SCHOOL OF THEOLOGY\"\n",
      " 'UNION THEOLOGICAL SEMINARY']\n",
      "Unique values in SIZE_SET: [-2  4 22 15  5 18 25 21  6  2 26 19  1 32 24 30  8 10  7 13 11 23 14  3\n",
      " 16  9 31 20 17 29 33 12 27 28]\n",
      "Unique values in INST_SIZE: [ 1  2  5  4  3 -2 -1]\n",
      "Unique values in PT_ENROLL: [-999  902  136 ...  359 2317 1266]\n",
      "Unique values in FT_ENROLL: [ 176  684  678 ... 2644 4409 3799]\n",
      "Unique values in TOT_ENROLL: [ 176  684 1580 ... 6726 1298 5065]\n",
      "Unique values in HOUSING: [ 2  1 -1 -2]\n",
      "Unique values in DORM_CAP: [-999  240  635 ...  975   51 1654]\n",
      "Unique values in TOT_EMP: [   15    51   261 ...  1961  1774 12921]\n",
      "Unique values in SHELTER_ID: ['NOT AVAILABLE' '10796133' '10784233' '10800160' '10792281' '10805113'\n",
      " '10813708' '10803035' '10809875' '10817186' '10775152' '10815973'\n",
      " '10824144' '10820596' '10786459' '10822794' '10782029' '10806415'\n",
      " '10786724' '10793735' '10776662' '10780191' '10805623' '10781388'\n",
      " '10823358' '10805902' '10802823' '10782016' '10784175' '10785506'\n",
      " '10819822' '10798591' '10782614' '10785434' '10784054' '10822456'\n",
      " '10812394' '10800154' '10795970' '10812340' '10810697' '10808792'\n",
      " '10812396' '10818712' '10782062' '10804995' '10778974' '10806134'\n",
      " '10805788' '10815487' '10774410' '10791593' '10810089' '10779950'\n",
      " '10798150' '10812401' '10803044' '10780775' '10776069' '10779771'\n",
      " '10780431' '10797667' '10805254' '10782302' '10780662' '10794654'\n",
      " '10776582' '10776174' '10816234' '10788467' '10783812' '10782895'\n",
      " '10813165' '10802353' '10779479' '10800296' '10815427' '10780412'\n",
      " '10806605' '10818850' '10801291' '10792070' '10818849' '10820948'\n",
      " '10810200' '10778286' '10816379' '10806211' '10818010' '10788946'\n",
      " '10806883' '10799465' '10774465' '10779511' '10806500' '10791806'\n",
      " '10813220' '10777349' '10822636' '10779493' '10806873' '10778094'\n",
      " '10820573' '10816032' '10792114' '10805793' '10814034' '10785008'\n",
      " '10822914' '10816517' '10787577' '10795861' '10781857' '10794662'\n",
      " '10810235' '10806319' '10779946' '10822654' '10788648' '10816823'\n",
      " '10792352' '10804646' '10796714' '10785432' '10790236' '10792457'\n",
      " '10812996' '10775449' '10782349' '10805653' '10780531' '10820592'\n",
      " '10803746' '10780760' '10793114' '10809977' '10801623' '10824143'\n",
      " '10788780' '10811991' '10783959' '10812387' '10815850' '10802496'\n",
      " '10820505' '10803876' '10781312' '10784329' '10784996' '10809955'\n",
      " '10800351' '10804853' '10780733' '10813475' '10777104' '10804705'\n",
      " '10792787' '10787076' '10782180' '10798829' '10784318' '10776667'\n",
      " '10816597' '10820633' '10822665' '10779561' '10812471' '10784164'\n",
      " '10808525' '10790049' '10817726' '10778562' '10783096' '10822024'\n",
      " '10794048' '10810946' '10801353' '10816502' '10775436' '10788385'\n",
      " '10822030' '10812389' '10786287' '10823201' '10777040' '10784548'\n",
      " '10790582' '10812390' '10801021' '10817388' '10798514' '10809789'\n",
      " '10780726' '10810268' '10820593' '10798347' '10810747' '10788306'\n",
      " '10821074' '10809262' '10801927' '10798198' '10782122' '10784977'\n",
      " '10778318' '10813857' '10811790' '10819179' '10794506' '10824323'\n",
      " '10776468' '10812402' '10798345' '10819985' '10779412' '10783545'\n",
      " '10819108' '10813537' '10821692' '10805390' '10794444' '10789019'\n",
      " '10798849' '10799232' '10774707' '10804603' '10805265' '10806347'\n",
      " '10779830' '10808435' '10820039' '10790692' '10791420' '10804549'\n",
      " '10776165']\n"
     ]
    }
   ],
   "source": [
    "for col in us_uni_data.columns:\n",
    "    unique_vals = us_uni_data[col].unique()\n",
    "    print(f\"Unique values in {col}: {unique_vals}\")"
   ]
  },
  {
   "cell_type": "code",
   "execution_count": 12,
   "id": "c49dfcd6",
   "metadata": {},
   "outputs": [
    {
     "name": "stdout",
     "output_type": "stream",
     "text": [
      "Geo Point: 6558\n",
      "Geo Shape: 6558\n",
      "OBJECTID: 6559\n",
      "IPEDSID: 6474\n",
      "NAME: 6350\n",
      "ADDRESS: 6393\n",
      "CITY: 2356\n",
      "STATE: 59\n",
      "ZIP: 4416\n",
      "ZIP4: 2240\n",
      "TELEPHONE: 6077\n",
      "TYPE: 4\n",
      "STATUS: 7\n",
      "POPULATION: 3166\n",
      "COUNTY: 1044\n",
      "COUNTYFIPS: 1467\n",
      "COUNTRY: 9\n",
      "LATITUDE: 6558\n",
      "LONGITUDE: 6557\n",
      "NAICS_CODE: 9\n",
      "NAICS_DESC: 9\n",
      "SOURCE: 6559\n",
      "SOURCEDATE: 18\n",
      "VAL_METHOD: 4\n",
      "VAL_DATE: 185\n",
      "WEBSITE: 5682\n",
      "STFIPS: 57\n",
      "COFIPS: 203\n",
      "SECTOR: 11\n",
      "LEVEL_: 4\n",
      "HI_OFFER: 16\n",
      "DEG_GRANT: 3\n",
      "LOCALE: 13\n",
      "CLOSE_DATE: 45\n",
      "MERGE_ID: 60\n",
      "ALIAS: 2075\n",
      "SIZE_SET: 34\n",
      "INST_SIZE: 7\n",
      "PT_ENROLL: 2048\n",
      "FT_ENROLL: 2574\n",
      "TOT_ENROLL: 2984\n",
      "HOUSING: 4\n",
      "DORM_CAP: 1376\n",
      "TOT_EMP: 1501\n",
      "SHELTER_ID: 235\n"
     ]
    }
   ],
   "source": [
    "# Number of unique values in each column\n",
    "for column in us_uni_data.columns:\n",
    "    num_unique_vals = us_uni_data[column].nunique()\n",
    "    print(f\"{column}: {num_unique_vals}\")"
   ]
  },
  {
   "cell_type": "code",
   "execution_count": 165,
   "id": "f50fbe92",
   "metadata": {},
   "outputs": [
    {
     "name": "stdout",
     "output_type": "stream",
     "text": [
      "Missing value in column ALIAS at row index 4873\n"
     ]
    }
   ],
   "source": [
    "mask = us_uni_data['ADDRESS'].isna()\n",
    "\n",
    "# Get the row indices of missing values\n",
    "missing_value_rows = mask[mask == True].index.tolist()\n",
    "\n",
    "# Print the location of missing values in the specified column\n",
    "for row_index in missing_value_rows:\n",
    "    print(f'Missing value in column ALIAS at row index {row_index}')"
   ]
  },
  {
   "cell_type": "code",
   "execution_count": 167,
   "id": "1277f33c",
   "metadata": {},
   "outputs": [
    {
     "name": "stdout",
     "output_type": "stream",
     "text": [
      "Is it null 0       False\n",
      "1       False\n",
      "2       False\n",
      "3       False\n",
      "4       False\n",
      "        ...  \n",
      "6554    False\n",
      "6555    False\n",
      "6556    False\n",
      "6557    False\n",
      "6558    False\n",
      "Name: ADDRESS, Length: 6559, dtype: bool\n"
     ]
    }
   ],
   "source": [
    "print(\"Is it null\", us_uni_data['ADDRESS'].isna())"
   ]
  },
  {
   "cell_type": "code",
   "execution_count": 174,
   "id": "1e324f5b",
   "metadata": {},
   "outputs": [
    {
     "name": "stdout",
     "output_type": "stream",
     "text": [
      "True\n"
     ]
    }
   ],
   "source": [
    "dat = math.isnan(us_uni_data.loc[4873, 'ADDRESS'])\n",
    "print(dat)"
   ]
  },
  {
   "cell_type": "code",
   "execution_count": 177,
   "id": "761ce32c",
   "metadata": {},
   "outputs": [],
   "source": [
    "# COnverting NOT AVAILABLE to nan values \n",
    "us_uni_data = us_uni_data.replace(to_replace=\"NOT AVAILABLE\",\n",
    "           value= np.nan)"
   ]
  },
  {
   "cell_type": "code",
   "execution_count": 200,
   "id": "8a7c83a2",
   "metadata": {},
   "outputs": [],
   "source": [
    "# COnverting -999  to nan values \n",
    "us_uni_data = us_uni_data.replace(to_replace=-999,\n",
    "           value= np.nan)"
   ]
  },
  {
   "cell_type": "code",
   "execution_count": 201,
   "id": "a4ec70e0",
   "metadata": {},
   "outputs": [
    {
     "name": "stdout",
     "output_type": "stream",
     "text": [
      "nan\n"
     ]
    }
   ],
   "source": [
    "dat = us_uni_data.loc[86, 'POPULATION']\n",
    "print(dat)"
   ]
  },
  {
   "cell_type": "markdown",
   "id": "29bd80cf",
   "metadata": {},
   "source": [
    "### Detailed Analysis"
   ]
  },
  {
   "cell_type": "markdown",
   "id": "3087246d",
   "metadata": {},
   "source": [
    "**Geo point- The geographic coordinates of the university in decimal degrees**"
   ]
  },
  {
   "cell_type": "code",
   "execution_count": 23,
   "id": "af05f740",
   "metadata": {},
   "outputs": [
    {
     "name": "stdout",
     "output_type": "stream",
     "text": [
      "object\n"
     ]
    }
   ],
   "source": [
    "# Data type\n",
    "column_dtype = us_uni_data['Geo Point'].dtype\n",
    "print(column_dtype)"
   ]
  },
  {
   "cell_type": "code",
   "execution_count": 24,
   "id": "925d13b5",
   "metadata": {},
   "outputs": [
    {
     "name": "stdout",
     "output_type": "stream",
     "text": [
      "Missing Value for this Column:\n",
      " 0\n"
     ]
    }
   ],
   "source": [
    "# Missing Values in a column\n",
    "missing_values = us_uni_data['Geo Point'].isna().sum()\n",
    "print(\"Missing Value for this Column:\\n\", missing_values)"
   ]
  },
  {
   "cell_type": "code",
   "execution_count": 27,
   "id": "4d31f1a7",
   "metadata": {
    "scrolled": true
   },
   "outputs": [
    {
     "name": "stdout",
     "output_type": "stream",
     "text": [
      "Unique Values: 6558\n"
     ]
    }
   ],
   "source": [
    "unique_vals = us_uni_data['Geo Point'].nunique()\n",
    "print(f\"Number of Unique Values: {unique_vals}\")"
   ]
  },
  {
   "cell_type": "markdown",
   "id": "eac31109",
   "metadata": {},
   "source": [
    "**Geo Shape- _____**\n",
    "\n"
   ]
  },
  {
   "cell_type": "code",
   "execution_count": 30,
   "id": "a2249a03",
   "metadata": {},
   "outputs": [
    {
     "name": "stdout",
     "output_type": "stream",
     "text": [
      "object\n"
     ]
    }
   ],
   "source": [
    "# Data type\n",
    "column_dtype = us_uni_data['Geo Shape'].dtype\n",
    "print(column_dtype)"
   ]
  },
  {
   "cell_type": "code",
   "execution_count": 31,
   "id": "bc257d1d",
   "metadata": {},
   "outputs": [
    {
     "name": "stdout",
     "output_type": "stream",
     "text": [
      "Missing Value for this Column:\n",
      " 0\n"
     ]
    }
   ],
   "source": [
    "# Missing Values in a column\n",
    "missing_values = us_uni_data['Geo Shape'].isna().sum()\n",
    "print(\"Missing Value for this Column:\\n\", missing_values)"
   ]
  },
  {
   "cell_type": "code",
   "execution_count": 32,
   "id": "e38c0d30",
   "metadata": {},
   "outputs": [
    {
     "name": "stdout",
     "output_type": "stream",
     "text": [
      "Unique Values: 6558\n"
     ]
    }
   ],
   "source": [
    "unique_vals = us_uni_data['Geo Shape'].nunique()\n",
    "print(f\"Number of Unique Values: {unique_vals}\")"
   ]
  },
  {
   "cell_type": "markdown",
   "id": "60b771b0",
   "metadata": {},
   "source": [
    "**OBJECTID- A unique identifier for the university**"
   ]
  },
  {
   "cell_type": "code",
   "execution_count": 34,
   "id": "3b29ea44",
   "metadata": {},
   "outputs": [
    {
     "name": "stdout",
     "output_type": "stream",
     "text": [
      "int64\n"
     ]
    }
   ],
   "source": [
    "# Data type\n",
    "column_dtype = us_uni_data['OBJECTID'].dtype\n",
    "print(column_dtype)"
   ]
  },
  {
   "cell_type": "code",
   "execution_count": 35,
   "id": "899ecfed",
   "metadata": {},
   "outputs": [
    {
     "name": "stdout",
     "output_type": "stream",
     "text": [
      "Missing Value for this Column:\n",
      " 0\n"
     ]
    }
   ],
   "source": [
    "# Missing Values in a column\n",
    "missing_values = us_uni_data['OBJECTID'].isna().sum()\n",
    "print(\"Missing Value for this Column:\\n\", missing_values)"
   ]
  },
  {
   "cell_type": "code",
   "execution_count": 36,
   "id": "6f6d24d6",
   "metadata": {},
   "outputs": [
    {
     "name": "stdout",
     "output_type": "stream",
     "text": [
      "Number of Unique Values: 6559\n"
     ]
    }
   ],
   "source": [
    "unique_vals = us_uni_data['OBJECTID'].nunique()\n",
    "print(f\"Number of Unique Values: {unique_vals}\")"
   ]
  },
  {
   "cell_type": "markdown",
   "id": "0809bd36",
   "metadata": {},
   "source": [
    "**IPEDSID- The unique identifier assigned to the institution by the IPEDS**"
   ]
  },
  {
   "cell_type": "code",
   "execution_count": 37,
   "id": "86c8ddc4",
   "metadata": {},
   "outputs": [
    {
     "name": "stdout",
     "output_type": "stream",
     "text": [
      "int64\n"
     ]
    }
   ],
   "source": [
    "# Data type\n",
    "column_dtype = us_uni_data['IPEDSID'].dtype\n",
    "print(column_dtype)"
   ]
  },
  {
   "cell_type": "code",
   "execution_count": 38,
   "id": "bd55b7eb",
   "metadata": {},
   "outputs": [
    {
     "name": "stdout",
     "output_type": "stream",
     "text": [
      "Missing Value for this Column:\n",
      " 0\n"
     ]
    }
   ],
   "source": [
    "# Missing Values in a column\n",
    "missing_values = us_uni_data['IPEDSID'].isna().sum()\n",
    "print(\"Missing Value for this Column:\\n\", missing_values)"
   ]
  },
  {
   "cell_type": "code",
   "execution_count": 39,
   "id": "f55b22b7",
   "metadata": {},
   "outputs": [
    {
     "name": "stdout",
     "output_type": "stream",
     "text": [
      "Number of Unique Values: 6474\n"
     ]
    }
   ],
   "source": [
    "unique_vals = us_uni_data['IPEDSID'].nunique()\n",
    "print(f\"Number of Unique Values: {unique_vals}\")"
   ]
  },
  {
   "cell_type": "markdown",
   "id": "3bccf4a6",
   "metadata": {},
   "source": [
    "**NAME- University Name**"
   ]
  },
  {
   "cell_type": "code",
   "execution_count": 41,
   "id": "7e2046d2",
   "metadata": {},
   "outputs": [
    {
     "name": "stdout",
     "output_type": "stream",
     "text": [
      "object\n"
     ]
    }
   ],
   "source": [
    "# Data type\n",
    "column_dtype = us_uni_data['NAME'].dtype\n",
    "print(column_dtype)"
   ]
  },
  {
   "cell_type": "code",
   "execution_count": 42,
   "id": "cdecb774",
   "metadata": {},
   "outputs": [
    {
     "name": "stdout",
     "output_type": "stream",
     "text": [
      "Missing Value for this Column:\n",
      " 0\n"
     ]
    }
   ],
   "source": [
    "# Missing Values in a column\n",
    "missing_values = us_uni_data['NAME'].isna().sum()\n",
    "print(\"Missing Value for this Column:\\n\", missing_values)"
   ]
  },
  {
   "cell_type": "code",
   "execution_count": 43,
   "id": "03406bb3",
   "metadata": {},
   "outputs": [
    {
     "name": "stdout",
     "output_type": "stream",
     "text": [
      "Number of Unique Values: 6350\n"
     ]
    }
   ],
   "source": [
    "unique_vals = us_uni_data['NAME'].nunique()\n",
    "print(f\"Number of Unique Values: {unique_vals}\")"
   ]
  },
  {
   "cell_type": "markdown",
   "id": "f6f19f95",
   "metadata": {},
   "source": [
    "**ADDRESS- The street address of the university.**\n"
   ]
  },
  {
   "cell_type": "code",
   "execution_count": 44,
   "id": "183bd070",
   "metadata": {},
   "outputs": [
    {
     "name": "stdout",
     "output_type": "stream",
     "text": [
      "object\n"
     ]
    }
   ],
   "source": [
    "# Data type\n",
    "column_dtype = us_uni_data['ADDRESS'].dtype\n",
    "print(column_dtype)"
   ]
  },
  {
   "cell_type": "code",
   "execution_count": 45,
   "id": "0a79e6bd",
   "metadata": {},
   "outputs": [
    {
     "name": "stdout",
     "output_type": "stream",
     "text": [
      "Missing Value for this Column:\n",
      " 1\n"
     ]
    }
   ],
   "source": [
    "# Missing Values in a column\n",
    "missing_values = us_uni_data['ADDRESS'].isna().sum()\n",
    "print(\"Missing Value for this Column:\\n\", missing_values)"
   ]
  },
  {
   "cell_type": "code",
   "execution_count": 46,
   "id": "423b7150",
   "metadata": {},
   "outputs": [
    {
     "name": "stdout",
     "output_type": "stream",
     "text": [
      "Number of Unique Values: 6393\n"
     ]
    }
   ],
   "source": [
    "unique_vals = us_uni_data['ADDRESS'].nunique()\n",
    "print(f\"Number of Unique Values: {unique_vals}\")"
   ]
  },
  {
   "cell_type": "markdown",
   "id": "13141c89",
   "metadata": {},
   "source": [
    "**CITY- The city where the university is located**"
   ]
  },
  {
   "cell_type": "code",
   "execution_count": 47,
   "id": "b088e26e",
   "metadata": {},
   "outputs": [
    {
     "name": "stdout",
     "output_type": "stream",
     "text": [
      "object\n"
     ]
    }
   ],
   "source": [
    "# Data type\n",
    "column_dtype = us_uni_data['CITY'].dtype\n",
    "print(column_dtype)"
   ]
  },
  {
   "cell_type": "code",
   "execution_count": 48,
   "id": "97504ec9",
   "metadata": {},
   "outputs": [
    {
     "name": "stdout",
     "output_type": "stream",
     "text": [
      "Missing Value for this Column:\n",
      " 0\n"
     ]
    }
   ],
   "source": [
    "# Missing Values in a column\n",
    "missing_values = us_uni_data['CITY'].isna().sum()\n",
    "print(\"Missing Value for this Column:\\n\", missing_values)"
   ]
  },
  {
   "cell_type": "code",
   "execution_count": 49,
   "id": "e9dc76c4",
   "metadata": {},
   "outputs": [
    {
     "name": "stdout",
     "output_type": "stream",
     "text": [
      "Number of Unique Values: 2356\n"
     ]
    }
   ],
   "source": [
    "unique_vals = us_uni_data['CITY'].nunique()\n",
    "print(f\"Number of Unique Values: {unique_vals}\")"
   ]
  },
  {
   "cell_type": "markdown",
   "id": "65259ea6",
   "metadata": {},
   "source": [
    "**STATE- The state where the university is located.**"
   ]
  },
  {
   "cell_type": "code",
   "execution_count": 50,
   "id": "36d2d46f",
   "metadata": {},
   "outputs": [
    {
     "name": "stdout",
     "output_type": "stream",
     "text": [
      "object\n"
     ]
    }
   ],
   "source": [
    "# Data type\n",
    "column_dtype = us_uni_data['STATE'].dtype\n",
    "print(column_dtype)"
   ]
  },
  {
   "cell_type": "code",
   "execution_count": 51,
   "id": "060ba70c",
   "metadata": {},
   "outputs": [
    {
     "name": "stdout",
     "output_type": "stream",
     "text": [
      "Missing Value for this Column:\n",
      " 0\n"
     ]
    }
   ],
   "source": [
    "# Missing Values in a column\n",
    "missing_values = us_uni_data['STATE'].isna().sum()\n",
    "print(\"Missing Value for this Column:\\n\", missing_values)"
   ]
  },
  {
   "cell_type": "code",
   "execution_count": 52,
   "id": "f2257766",
   "metadata": {},
   "outputs": [
    {
     "name": "stdout",
     "output_type": "stream",
     "text": [
      "Number of Unique Values: 59\n"
     ]
    }
   ],
   "source": [
    "unique_vals = us_uni_data['STATE'].nunique()\n",
    "print(f\"Number of Unique Values: {unique_vals}\")"
   ]
  },
  {
   "cell_type": "markdown",
   "id": "2c4bd937",
   "metadata": {},
   "source": [
    "**ZIP- The ZIP code of the university**"
   ]
  },
  {
   "cell_type": "code",
   "execution_count": 53,
   "id": "111f2c51",
   "metadata": {},
   "outputs": [
    {
     "name": "stdout",
     "output_type": "stream",
     "text": [
      "int64\n"
     ]
    }
   ],
   "source": [
    "# Data type\n",
    "column_dtype = us_uni_data['ZIP'].dtype\n",
    "print(column_dtype)"
   ]
  },
  {
   "cell_type": "code",
   "execution_count": 54,
   "id": "58b90621",
   "metadata": {},
   "outputs": [
    {
     "name": "stdout",
     "output_type": "stream",
     "text": [
      "Missing Value for this Column:\n",
      " 0\n"
     ]
    }
   ],
   "source": [
    "# Missing Values in a column\n",
    "missing_values = us_uni_data['ZIP'].isna().sum()\n",
    "print(\"Missing Value for this Column:\\n\", missing_values)"
   ]
  },
  {
   "cell_type": "code",
   "execution_count": 55,
   "id": "bc75afb9",
   "metadata": {},
   "outputs": [
    {
     "name": "stdout",
     "output_type": "stream",
     "text": [
      "Number of Unique Values: 4416\n"
     ]
    }
   ],
   "source": [
    "unique_vals = us_uni_data['ZIP'].nunique()\n",
    "print(f\"Number of Unique Values: {unique_vals}\")"
   ]
  },
  {
   "cell_type": "markdown",
   "id": "8b7a3ea8",
   "metadata": {},
   "source": [
    "**ZIP4- The ZIP+4 code of the university**"
   ]
  },
  {
   "cell_type": "code",
   "execution_count": 178,
   "id": "b30b2ed3",
   "metadata": {},
   "outputs": [
    {
     "name": "stdout",
     "output_type": "stream",
     "text": [
      "object\n"
     ]
    }
   ],
   "source": [
    "# Data type\n",
    "column_dtype = us_uni_data['ZIP4'].dtype\n",
    "print(column_dtype)"
   ]
  },
  {
   "cell_type": "code",
   "execution_count": 179,
   "id": "64680c3f",
   "metadata": {},
   "outputs": [
    {
     "name": "stdout",
     "output_type": "stream",
     "text": [
      "Missing Value for this Column:\n",
      " 3241\n"
     ]
    }
   ],
   "source": [
    "# Missing Values in a column\n",
    "\n",
    "\n",
    "missing_values = us_uni_data['ZIP4'].isna().sum()\n",
    "print(\"Missing Value for this Column:\\n\", missing_values)"
   ]
  },
  {
   "cell_type": "code",
   "execution_count": 180,
   "id": "56a68136",
   "metadata": {},
   "outputs": [
    {
     "name": "stdout",
     "output_type": "stream",
     "text": [
      "Number of Unique Values: 2239\n"
     ]
    }
   ],
   "source": [
    "unique_vals = us_uni_data['ZIP4'].nunique()\n",
    "print(f\"Number of Unique Values: {unique_vals}\")"
   ]
  },
  {
   "cell_type": "markdown",
   "id": "3164b301",
   "metadata": {},
   "source": [
    "**TELEPHONE- The telephone number of the university.**"
   ]
  },
  {
   "cell_type": "code",
   "execution_count": 181,
   "id": "8150b36f",
   "metadata": {},
   "outputs": [
    {
     "name": "stdout",
     "output_type": "stream",
     "text": [
      "object\n"
     ]
    }
   ],
   "source": [
    "# Data type\n",
    "column_dtype = us_uni_data['TELEPHONE'].dtype\n",
    "print(column_dtype)"
   ]
  },
  {
   "cell_type": "code",
   "execution_count": 182,
   "id": "ca5d47b6",
   "metadata": {},
   "outputs": [
    {
     "name": "stdout",
     "output_type": "stream",
     "text": [
      "Missing Value for this Column:\n",
      " 118\n"
     ]
    }
   ],
   "source": [
    "# Missing Values in a column\n",
    "missing_values = us_uni_data['TELEPHONE'].isna().sum()\n",
    "print(\"Missing Value for this Column:\\n\", missing_values)"
   ]
  },
  {
   "cell_type": "code",
   "execution_count": 183,
   "id": "f5de7c35",
   "metadata": {},
   "outputs": [
    {
     "name": "stdout",
     "output_type": "stream",
     "text": [
      "Number of Unique Values: 6076\n"
     ]
    }
   ],
   "source": [
    "unique_vals = us_uni_data['TELEPHONE'].nunique()\n",
    "print(f\"Number of Unique Values: {unique_vals}\")"
   ]
  },
  {
   "cell_type": "markdown",
   "id": "8edea423",
   "metadata": {},
   "source": [
    "**TYPE- ___**"
   ]
  },
  {
   "cell_type": "code",
   "execution_count": 185,
   "id": "bbcd0b4c",
   "metadata": {},
   "outputs": [
    {
     "name": "stdout",
     "output_type": "stream",
     "text": [
      "int64\n"
     ]
    }
   ],
   "source": [
    "# Data type\n",
    "column_dtype = us_uni_data['TYPE'].dtype\n",
    "print(column_dtype)"
   ]
  },
  {
   "cell_type": "code",
   "execution_count": 186,
   "id": "b4a91331",
   "metadata": {},
   "outputs": [
    {
     "name": "stdout",
     "output_type": "stream",
     "text": [
      "Missing Value for this Column:\n",
      " 0\n"
     ]
    }
   ],
   "source": [
    "# Missing Values in a column\n",
    "missing_values = us_uni_data['TYPE'].isna().sum()\n",
    "print(\"Missing Value for this Column:\\n\", missing_values)"
   ]
  },
  {
   "cell_type": "code",
   "execution_count": 187,
   "id": "2a5cfac7",
   "metadata": {},
   "outputs": [
    {
     "name": "stdout",
     "output_type": "stream",
     "text": [
      "Number of Unique Values: 4\n"
     ]
    }
   ],
   "source": [
    "unique_vals = us_uni_data['TYPE'].nunique()\n",
    "print(f\"Number of Unique Values: {unique_vals}\")"
   ]
  },
  {
   "cell_type": "markdown",
   "id": "2b11ef46",
   "metadata": {},
   "source": [
    "**STATUS- Accreditation status codes**"
   ]
  },
  {
   "cell_type": "code",
   "execution_count": 65,
   "id": "aa618eeb",
   "metadata": {},
   "outputs": [
    {
     "name": "stdout",
     "output_type": "stream",
     "text": [
      "object\n"
     ]
    }
   ],
   "source": [
    "# Data type\n",
    "column_dtype = us_uni_data['STATUS'].dtype\n",
    "print(column_dtype)"
   ]
  },
  {
   "cell_type": "code",
   "execution_count": 66,
   "id": "c4aa5917",
   "metadata": {},
   "outputs": [
    {
     "name": "stdout",
     "output_type": "stream",
     "text": [
      "Missing Value for this Column:\n",
      " 0\n"
     ]
    }
   ],
   "source": [
    "# Missing Values in a column\n",
    "missing_values = us_uni_data['STATUS'].isna().sum()\n",
    "print(\"Missing Value for this Column:\\n\", missing_values)"
   ]
  },
  {
   "cell_type": "code",
   "execution_count": 67,
   "id": "13fab45e",
   "metadata": {},
   "outputs": [
    {
     "name": "stdout",
     "output_type": "stream",
     "text": [
      "Number of Unique Values: 7\n"
     ]
    }
   ],
   "source": [
    "unique_vals = us_uni_data['STATUS'].nunique()\n",
    "print(f\"Number of Unique Values: {unique_vals}\")"
   ]
  },
  {
   "cell_type": "markdown",
   "id": "23c74d57",
   "metadata": {},
   "source": [
    "**POPULATION- The number of students enrolled at the university**"
   ]
  },
  {
   "cell_type": "code",
   "execution_count": 205,
   "id": "616adad6",
   "metadata": {},
   "outputs": [
    {
     "name": "stdout",
     "output_type": "stream",
     "text": [
      "float64\n"
     ]
    }
   ],
   "source": [
    "# Data type\n",
    "column_dtype = us_uni_data['POPULATION'].dtype\n",
    "print(column_dtype)"
   ]
  },
  {
   "cell_type": "code",
   "execution_count": 203,
   "id": "0c6f86c7",
   "metadata": {},
   "outputs": [
    {
     "name": "stdout",
     "output_type": "stream",
     "text": [
      "Missing Value for this Column:\n",
      " 267\n"
     ]
    }
   ],
   "source": [
    "# Missing Values in a column\n",
    "missing_values = us_uni_data['POPULATION'].isna().sum()\n",
    "print(\"Missing Value for this Column:\\n\", missing_values)"
   ]
  },
  {
   "cell_type": "code",
   "execution_count": 204,
   "id": "951d8746",
   "metadata": {
    "scrolled": true
   },
   "outputs": [
    {
     "name": "stdout",
     "output_type": "stream",
     "text": [
      "Number of Unique Values: 3165\n"
     ]
    }
   ],
   "source": [
    "unique_vals = us_uni_data['POPULATION'].nunique()\n",
    "print(f\"Number of Unique Values: {unique_vals}\")"
   ]
  },
  {
   "cell_type": "markdown",
   "id": "6060b4e2",
   "metadata": {},
   "source": [
    "**COUNTY- The county where the university is located.**"
   ]
  },
  {
   "cell_type": "code",
   "execution_count": 206,
   "id": "acb04bea",
   "metadata": {},
   "outputs": [
    {
     "name": "stdout",
     "output_type": "stream",
     "text": [
      "object\n"
     ]
    }
   ],
   "source": [
    "# Data type\n",
    "column_dtype = us_uni_data['COUNTY'].dtype\n",
    "print(column_dtype)"
   ]
  },
  {
   "cell_type": "code",
   "execution_count": 207,
   "id": "942159e7",
   "metadata": {},
   "outputs": [
    {
     "name": "stdout",
     "output_type": "stream",
     "text": [
      "Missing Value for this Column:\n",
      " 3\n"
     ]
    }
   ],
   "source": [
    "# Missing Values in a column\n",
    "missing_values = us_uni_data['COUNTY'].isna().sum()\n",
    "print(\"Missing Value for this Column:\\n\", missing_values)"
   ]
  },
  {
   "cell_type": "code",
   "execution_count": 73,
   "id": "f936171d",
   "metadata": {},
   "outputs": [
    {
     "name": "stdout",
     "output_type": "stream",
     "text": [
      "Number of Unique Values: 1044\n"
     ]
    }
   ],
   "source": [
    "unique_vals = us_uni_data['COUNTY'].nunique()\n",
    "print(f\"Number of Unique Values: {unique_vals}\")"
   ]
  },
  {
   "cell_type": "markdown",
   "id": "e1a102d6",
   "metadata": {},
   "source": [
    "**COUNTYFIPS- The FIPS code for the county where the university is located.**"
   ]
  },
  {
   "cell_type": "code",
   "execution_count": 208,
   "id": "bf814ece",
   "metadata": {},
   "outputs": [
    {
     "name": "stdout",
     "output_type": "stream",
     "text": [
      "object\n"
     ]
    }
   ],
   "source": [
    "# Data type\n",
    "column_dtype = us_uni_data['COUNTYFIPS'].dtype\n",
    "print(column_dtype)"
   ]
  },
  {
   "cell_type": "code",
   "execution_count": 209,
   "id": "7ac09a40",
   "metadata": {},
   "outputs": [
    {
     "name": "stdout",
     "output_type": "stream",
     "text": [
      "Missing Value for this Column:\n",
      " 3\n"
     ]
    }
   ],
   "source": [
    "# Missing Values in a column\n",
    "missing_values = us_uni_data['COUNTYFIPS'].isna().sum()\n",
    "print(\"Missing Value for this Column:\\n\", missing_values)"
   ]
  },
  {
   "cell_type": "code",
   "execution_count": 210,
   "id": "35589dab",
   "metadata": {},
   "outputs": [
    {
     "name": "stdout",
     "output_type": "stream",
     "text": [
      "Number of Unique Values: 1466\n"
     ]
    }
   ],
   "source": [
    "unique_vals = us_uni_data['COUNTYFIPS'].nunique()\n",
    "print(f\"Number of Unique Values: {unique_vals}\")"
   ]
  },
  {
   "cell_type": "markdown",
   "id": "75b4492e",
   "metadata": {},
   "source": [
    "**COUNTRY- The country where the university is located**"
   ]
  },
  {
   "cell_type": "code",
   "execution_count": 211,
   "id": "7017c7e0",
   "metadata": {},
   "outputs": [
    {
     "name": "stdout",
     "output_type": "stream",
     "text": [
      "object\n"
     ]
    }
   ],
   "source": [
    "# Data type\n",
    "column_dtype = us_uni_data['COUNTRY'].dtype\n",
    "print(column_dtype)"
   ]
  },
  {
   "cell_type": "code",
   "execution_count": 212,
   "id": "bba69b6e",
   "metadata": {},
   "outputs": [
    {
     "name": "stdout",
     "output_type": "stream",
     "text": [
      "Missing Value for this Column:\n",
      " 0\n"
     ]
    }
   ],
   "source": [
    "# Missing Values in a column\n",
    "missing_values = us_uni_data['COUNTRY'].isna().sum()\n",
    "print(\"Missing Value for this Column:\\n\", missing_values)"
   ]
  },
  {
   "cell_type": "code",
   "execution_count": 213,
   "id": "3dba5f0a",
   "metadata": {},
   "outputs": [
    {
     "name": "stdout",
     "output_type": "stream",
     "text": [
      "Number of Unique Values: 9\n"
     ]
    }
   ],
   "source": [
    "unique_vals = us_uni_data['COUNTRY'].nunique()\n",
    "print(f\"Number of Unique Values: {unique_vals}\")"
   ]
  },
  {
   "cell_type": "markdown",
   "id": "2337c52c",
   "metadata": {},
   "source": [
    "**LATITUDE- The latitude of the university in decimal degrees.**\n"
   ]
  },
  {
   "cell_type": "code",
   "execution_count": 214,
   "id": "160ca0ce",
   "metadata": {},
   "outputs": [
    {
     "name": "stdout",
     "output_type": "stream",
     "text": [
      "float64\n"
     ]
    }
   ],
   "source": [
    "# Data type\n",
    "\n",
    "column_dtype = us_uni_data['LATITUDE'].dtype\n",
    "print(column_dtype)"
   ]
  },
  {
   "cell_type": "code",
   "execution_count": 215,
   "id": "27328297",
   "metadata": {},
   "outputs": [
    {
     "name": "stdout",
     "output_type": "stream",
     "text": [
      "Missing Value for this Column:\n",
      " 0\n"
     ]
    }
   ],
   "source": [
    "# Missing Values in a column\n",
    "missing_values = us_uni_data['LATITUDE'].isna().sum()\n",
    "print(\"Missing Value for this Column:\\n\", missing_values)"
   ]
  },
  {
   "cell_type": "code",
   "execution_count": 216,
   "id": "d22efc61",
   "metadata": {},
   "outputs": [
    {
     "name": "stdout",
     "output_type": "stream",
     "text": [
      "Number of Unique Values: 6558\n"
     ]
    }
   ],
   "source": [
    "unique_vals = us_uni_data['LATITUDE'].nunique()\n",
    "print(f\"Number of Unique Values: {unique_vals}\")"
   ]
  },
  {
   "cell_type": "markdown",
   "id": "80e838ed",
   "metadata": {},
   "source": [
    "**LONGITUDE- The longitude of the university in decimal degrees.**"
   ]
  },
  {
   "cell_type": "code",
   "execution_count": 217,
   "id": "f5ebbd66",
   "metadata": {},
   "outputs": [
    {
     "name": "stdout",
     "output_type": "stream",
     "text": [
      "float64\n"
     ]
    }
   ],
   "source": [
    "# Data type\n",
    "column_dtype = us_uni_data['LONGITUDE'].dtype\n",
    "print(column_dtype)"
   ]
  },
  {
   "cell_type": "code",
   "execution_count": 218,
   "id": "217ad8d7",
   "metadata": {},
   "outputs": [
    {
     "name": "stdout",
     "output_type": "stream",
     "text": [
      "Missing Value for this Column:\n",
      " 0\n"
     ]
    }
   ],
   "source": [
    "# Missing Values in a column\n",
    "missing_values = us_uni_data['LONGITUDE'].isna().sum()\n",
    "print(\"Missing Value for this Column:\\n\", missing_values)"
   ]
  },
  {
   "cell_type": "code",
   "execution_count": 219,
   "id": "77c38896",
   "metadata": {},
   "outputs": [
    {
     "name": "stdout",
     "output_type": "stream",
     "text": [
      "Number of Unique Values: 6557\n"
     ]
    }
   ],
   "source": [
    "unique_vals = us_uni_data['LONGITUDE'].nunique()\n",
    "print(f\"Number of Unique Values: {unique_vals}\")"
   ]
  },
  {
   "cell_type": "markdown",
   "id": "f2aca160",
   "metadata": {},
   "source": [
    "**NAICS_CODE- NAICS code for the university.**"
   ]
  },
  {
   "cell_type": "code",
   "execution_count": 220,
   "id": "f34c3fc4",
   "metadata": {},
   "outputs": [
    {
     "name": "stdout",
     "output_type": "stream",
     "text": [
      "int64\n"
     ]
    }
   ],
   "source": [
    "# Data type\n",
    "column_dtype = us_uni_data['NAICS_CODE'].dtype\n",
    "print(column_dtype)"
   ]
  },
  {
   "cell_type": "code",
   "execution_count": 221,
   "id": "122aaea8",
   "metadata": {},
   "outputs": [
    {
     "name": "stdout",
     "output_type": "stream",
     "text": [
      "Missing Value for this Column:\n",
      " 0\n"
     ]
    }
   ],
   "source": [
    "# Missing Values in a column\n",
    "missing_values = us_uni_data['NAICS_CODE'].isna().sum()\n",
    "print(\"Missing Value for this Column:\\n\", missing_values)"
   ]
  },
  {
   "cell_type": "code",
   "execution_count": 222,
   "id": "2c2f2513",
   "metadata": {},
   "outputs": [
    {
     "name": "stdout",
     "output_type": "stream",
     "text": [
      "Number of Unique Values: 9\n"
     ]
    }
   ],
   "source": [
    "unique_vals = us_uni_data['NAICS_CODE'].nunique()\n",
    "print(f\"Number of Unique Values: {unique_vals}\")"
   ]
  },
  {
   "cell_type": "markdown",
   "id": "a1b6abb7",
   "metadata": {},
   "source": [
    "**NAICS_DESC- The NAICS description for the university.**"
   ]
  },
  {
   "cell_type": "code",
   "execution_count": 223,
   "id": "a24a1016",
   "metadata": {},
   "outputs": [
    {
     "name": "stdout",
     "output_type": "stream",
     "text": [
      "object\n"
     ]
    }
   ],
   "source": [
    "# Data type\n",
    "column_dtype = us_uni_data['NAICS_DESC'].dtype\n",
    "print(column_dtype)"
   ]
  },
  {
   "cell_type": "code",
   "execution_count": 224,
   "id": "237eaada",
   "metadata": {},
   "outputs": [
    {
     "name": "stdout",
     "output_type": "stream",
     "text": [
      "Missing Value for this Column:\n",
      " 0\n"
     ]
    }
   ],
   "source": [
    "# Missing Values in a column\n",
    "missing_values = us_uni_data['NAICS_DESC'].isna().sum()\n",
    "print(\"Missing Value for this Column:\\n\", missing_values)"
   ]
  },
  {
   "cell_type": "code",
   "execution_count": 225,
   "id": "c43c76c7",
   "metadata": {},
   "outputs": [
    {
     "name": "stdout",
     "output_type": "stream",
     "text": [
      "Number of Unique Values: 9\n"
     ]
    }
   ],
   "source": [
    "unique_vals = us_uni_data['NAICS_DESC'].nunique()\n",
    "print(f\"Number of Unique Values: {unique_vals}\")"
   ]
  },
  {
   "cell_type": "markdown",
   "id": "adecd2a4",
   "metadata": {},
   "source": [
    "**SOURCE- The source of the university data.**"
   ]
  },
  {
   "cell_type": "code",
   "execution_count": 226,
   "id": "f5165c10",
   "metadata": {},
   "outputs": [
    {
     "name": "stdout",
     "output_type": "stream",
     "text": [
      "object\n"
     ]
    }
   ],
   "source": [
    "# Data type\n",
    "column_dtype = us_uni_data['SOURCE'].dtype\n",
    "print(column_dtype)"
   ]
  },
  {
   "cell_type": "code",
   "execution_count": 227,
   "id": "9ce180ea",
   "metadata": {},
   "outputs": [
    {
     "name": "stdout",
     "output_type": "stream",
     "text": [
      "Missing Value for this Column:\n",
      " 0\n"
     ]
    }
   ],
   "source": [
    "# Missing Values in a column\n",
    "missing_values = us_uni_data['SOURCE'].isna().sum()\n",
    "print(\"Missing Value for this Column:\\n\", missing_values)"
   ]
  },
  {
   "cell_type": "code",
   "execution_count": 228,
   "id": "5cc829bc",
   "metadata": {},
   "outputs": [
    {
     "name": "stdout",
     "output_type": "stream",
     "text": [
      "Number of Unique Values: 6559\n"
     ]
    }
   ],
   "source": [
    "unique_vals = us_uni_data['SOURCE'].nunique()\n",
    "print(f\"Number of Unique Values: {unique_vals}\")"
   ]
  },
  {
   "cell_type": "markdown",
   "id": "a0a96102",
   "metadata": {},
   "source": [
    "**SOURCEDATE- The date the university data was last updated.**"
   ]
  },
  {
   "cell_type": "code",
   "execution_count": 229,
   "id": "6cb24414",
   "metadata": {},
   "outputs": [
    {
     "name": "stdout",
     "output_type": "stream",
     "text": [
      "object\n"
     ]
    }
   ],
   "source": [
    "# Data type\n",
    "column_dtype = us_uni_data['SOURCEDATE'].dtype\n",
    "print(column_dtype)"
   ]
  },
  {
   "cell_type": "code",
   "execution_count": 230,
   "id": "bf78561f",
   "metadata": {},
   "outputs": [
    {
     "name": "stdout",
     "output_type": "stream",
     "text": [
      "Missing Value for this Column:\n",
      " 0\n"
     ]
    }
   ],
   "source": [
    "# Missing Values in a column\n",
    "missing_values = us_uni_data['SOURCEDATE'].isna().sum()\n",
    "print(\"Missing Value for this Column:\\n\", missing_values)"
   ]
  },
  {
   "cell_type": "code",
   "execution_count": 231,
   "id": "cb116e73",
   "metadata": {},
   "outputs": [
    {
     "name": "stdout",
     "output_type": "stream",
     "text": [
      "Number of Unique Values: 18\n"
     ]
    }
   ],
   "source": [
    "unique_vals = us_uni_data['SOURCEDATE'].nunique()\n",
    "print(f\"Number of Unique Values: {unique_vals}\")"
   ]
  },
  {
   "cell_type": "markdown",
   "id": "d12e4601",
   "metadata": {},
   "source": [
    "**VAL_METHOD- The validation method for the university data.**"
   ]
  },
  {
   "cell_type": "code",
   "execution_count": 232,
   "id": "1bdf8f68",
   "metadata": {},
   "outputs": [
    {
     "name": "stdout",
     "output_type": "stream",
     "text": [
      "object\n"
     ]
    }
   ],
   "source": [
    "# Data type\n",
    "column_dtype = us_uni_data['VAL_METHOD'].dtype\n",
    "print(column_dtype)"
   ]
  },
  {
   "cell_type": "code",
   "execution_count": 233,
   "id": "857a49b7",
   "metadata": {},
   "outputs": [
    {
     "name": "stdout",
     "output_type": "stream",
     "text": [
      "Missing Value for this Column:\n",
      " 0\n"
     ]
    }
   ],
   "source": [
    "# Missing Values in a column\n",
    "missing_values = us_uni_data['VAL_METHOD'].isna().sum()\n",
    "print(\"Missing Value for this Column:\\n\", missing_values)"
   ]
  },
  {
   "cell_type": "code",
   "execution_count": 234,
   "id": "bc68d8db",
   "metadata": {
    "scrolled": true
   },
   "outputs": [
    {
     "name": "stdout",
     "output_type": "stream",
     "text": [
      "Number of Unique Values: 4\n"
     ]
    }
   ],
   "source": [
    "unique_vals = us_uni_data['VAL_METHOD'].nunique()\n",
    "print(f\"Number of Unique Values: {unique_vals}\")"
   ]
  },
  {
   "cell_type": "markdown",
   "id": "770fb0d4",
   "metadata": {},
   "source": [
    "**VAL_DATE- The date the university data was validated.**"
   ]
  },
  {
   "cell_type": "code",
   "execution_count": 235,
   "id": "de6c42fa",
   "metadata": {},
   "outputs": [
    {
     "name": "stdout",
     "output_type": "stream",
     "text": [
      "object\n"
     ]
    }
   ],
   "source": [
    "# Data type\n",
    "column_dtype = us_uni_data['VAL_DATE'].dtype\n",
    "print(column_dtype)"
   ]
  },
  {
   "cell_type": "code",
   "execution_count": 236,
   "id": "10628c61",
   "metadata": {},
   "outputs": [
    {
     "name": "stdout",
     "output_type": "stream",
     "text": [
      "Missing Value for this Column:\n",
      " 0\n"
     ]
    }
   ],
   "source": [
    "# Missing Values in a column\n",
    "missing_values = us_uni_data['VAL_DATE'].isna().sum()\n",
    "print(\"Missing Value for this Column:\\n\", missing_values)"
   ]
  },
  {
   "cell_type": "code",
   "execution_count": 237,
   "id": "dee8b25e",
   "metadata": {},
   "outputs": [
    {
     "name": "stdout",
     "output_type": "stream",
     "text": [
      "Number of Unique Values: 185\n"
     ]
    }
   ],
   "source": [
    "unique_vals = us_uni_data['VAL_DATE'].nunique()\n",
    "print(f\"Number of Unique Values: {unique_vals}\")"
   ]
  },
  {
   "cell_type": "markdown",
   "id": "15f20ae0",
   "metadata": {},
   "source": [
    "**WEBSITE- The website of the university.**"
   ]
  },
  {
   "cell_type": "code",
   "execution_count": 238,
   "id": "a4355c5d",
   "metadata": {},
   "outputs": [
    {
     "name": "stdout",
     "output_type": "stream",
     "text": [
      "object\n"
     ]
    }
   ],
   "source": [
    "# Data type\n",
    "column_dtype = us_uni_data['WEBSITE'].dtype\n",
    "print(column_dtype)"
   ]
  },
  {
   "cell_type": "code",
   "execution_count": 239,
   "id": "7c601efb",
   "metadata": {},
   "outputs": [
    {
     "name": "stdout",
     "output_type": "stream",
     "text": [
      "Missing Value for this Column:\n",
      " 118\n"
     ]
    }
   ],
   "source": [
    "# Missing Values in a column\n",
    "missing_values = us_uni_data['WEBSITE'].isna().sum()\n",
    "print(\"Missing Value for this Column:\\n\", missing_values)"
   ]
  },
  {
   "cell_type": "code",
   "execution_count": 240,
   "id": "30acbbb8",
   "metadata": {},
   "outputs": [
    {
     "name": "stdout",
     "output_type": "stream",
     "text": [
      "Number of Unique Values: 5681\n"
     ]
    }
   ],
   "source": [
    "unique_vals = us_uni_data['WEBSITE'].nunique()\n",
    "print(f\"Number of Unique Values: {unique_vals}\")"
   ]
  },
  {
   "cell_type": "markdown",
   "id": "09c17988",
   "metadata": {},
   "source": [
    "**STFIPS- The FIPS code for the state where the university is located.**"
   ]
  },
  {
   "cell_type": "code",
   "execution_count": 241,
   "id": "92e4b0b7",
   "metadata": {},
   "outputs": [
    {
     "name": "stdout",
     "output_type": "stream",
     "text": [
      "object\n"
     ]
    }
   ],
   "source": [
    "# Data type\n",
    "column_dtype = us_uni_data['STFIPS'].dtype\n",
    "print(column_dtype)"
   ]
  },
  {
   "cell_type": "code",
   "execution_count": 242,
   "id": "e7bdc335",
   "metadata": {},
   "outputs": [
    {
     "name": "stdout",
     "output_type": "stream",
     "text": [
      "Missing Value for this Column:\n",
      " 3\n"
     ]
    }
   ],
   "source": [
    "# Missing Values in a column\n",
    "missing_values = us_uni_data['STFIPS'].isna().sum()\n",
    "print(\"Missing Value for this Column:\\n\", missing_values)"
   ]
  },
  {
   "cell_type": "code",
   "execution_count": 243,
   "id": "44b0c8de",
   "metadata": {},
   "outputs": [
    {
     "name": "stdout",
     "output_type": "stream",
     "text": [
      "Number of Unique Values: 56\n"
     ]
    }
   ],
   "source": [
    "unique_vals = us_uni_data['STFIPS'].nunique()\n",
    "print(f\"Number of Unique Values: {unique_vals}\")"
   ]
  },
  {
   "cell_type": "markdown",
   "id": "e0111f5e",
   "metadata": {},
   "source": [
    "**COFIPS- The FIPS code for the county where the university is located.**"
   ]
  },
  {
   "cell_type": "code",
   "execution_count": 244,
   "id": "2425422b",
   "metadata": {},
   "outputs": [
    {
     "name": "stdout",
     "output_type": "stream",
     "text": [
      "object\n"
     ]
    }
   ],
   "source": [
    "# Data type\n",
    "column_dtype = us_uni_data['COFIPS'].dtype\n",
    "print(column_dtype)"
   ]
  },
  {
   "cell_type": "code",
   "execution_count": 245,
   "id": "06e6cb8a",
   "metadata": {},
   "outputs": [
    {
     "name": "stdout",
     "output_type": "stream",
     "text": [
      "Missing Value for this Column:\n",
      " 3\n"
     ]
    }
   ],
   "source": [
    "# Missing Values in a column\n",
    "missing_values = us_uni_data['COFIPS'].isna().sum()\n",
    "print(\"Missing Value for this Column:\\n\", missing_values)"
   ]
  },
  {
   "cell_type": "code",
   "execution_count": 246,
   "id": "14d242d0",
   "metadata": {},
   "outputs": [
    {
     "name": "stdout",
     "output_type": "stream",
     "text": [
      "Number of Unique Values: 202\n"
     ]
    }
   ],
   "source": [
    "unique_vals = us_uni_data['COFIPS'].nunique()\n",
    "print(f\"Number of Unique Values: {unique_vals}\")"
   ]
  },
  {
   "cell_type": "markdown",
   "id": "c7518e07",
   "metadata": {},
   "source": [
    "**SECTOR- The sector of the institution.**"
   ]
  },
  {
   "cell_type": "code",
   "execution_count": 247,
   "id": "76e43671",
   "metadata": {},
   "outputs": [
    {
     "name": "stdout",
     "output_type": "stream",
     "text": [
      "int64\n"
     ]
    }
   ],
   "source": [
    "# Data type\n",
    "column_dtype = us_uni_data['SECTOR'].dtype\n",
    "print(column_dtype)"
   ]
  },
  {
   "cell_type": "code",
   "execution_count": 248,
   "id": "04b72558",
   "metadata": {},
   "outputs": [
    {
     "name": "stdout",
     "output_type": "stream",
     "text": [
      "Missing Value for this Column:\n",
      " 0\n"
     ]
    }
   ],
   "source": [
    "# Missing Values in a column\n",
    "missing_values = us_uni_data['SECTOR'].isna().sum()\n",
    "print(\"Missing Value for this Column:\\n\", missing_values)"
   ]
  },
  {
   "cell_type": "code",
   "execution_count": 249,
   "id": "cfff39d1",
   "metadata": {},
   "outputs": [
    {
     "name": "stdout",
     "output_type": "stream",
     "text": [
      "Number of Unique Values: 11\n"
     ]
    }
   ],
   "source": [
    "unique_vals = us_uni_data['SECTOR'].nunique()\n",
    "print(f\"Number of Unique Values: {unique_vals}\")"
   ]
  },
  {
   "cell_type": "markdown",
   "id": "174fae8c",
   "metadata": {},
   "source": [
    "**LEVEL_- The level of the institution.**"
   ]
  },
  {
   "cell_type": "code",
   "execution_count": 117,
   "id": "ffb4eba1",
   "metadata": {},
   "outputs": [
    {
     "name": "stdout",
     "output_type": "stream",
     "text": [
      "int64\n"
     ]
    }
   ],
   "source": [
    "# Data type\n",
    "column_dtype = us_uni_data['LEVEL_'].dtype\n",
    "print(column_dtype)"
   ]
  },
  {
   "cell_type": "code",
   "execution_count": 118,
   "id": "a6106dc1",
   "metadata": {},
   "outputs": [
    {
     "name": "stdout",
     "output_type": "stream",
     "text": [
      "Missing Value for this Column:\n",
      " 0\n"
     ]
    }
   ],
   "source": [
    "# Missing Values in a column\n",
    "missing_values = us_uni_data['LEVEL_'].isna().sum()\n",
    "print(\"Missing Value for this Column:\\n\", missing_values)"
   ]
  },
  {
   "cell_type": "code",
   "execution_count": 119,
   "id": "b97aa629",
   "metadata": {},
   "outputs": [
    {
     "name": "stdout",
     "output_type": "stream",
     "text": [
      "Number of Unique Values: 4\n"
     ]
    }
   ],
   "source": [
    "unique_vals = us_uni_data['LEVEL_'].nunique()\n",
    "print(f\"Number of Unique Values: {unique_vals}\")"
   ]
  },
  {
   "cell_type": "markdown",
   "id": "ae3806e0",
   "metadata": {},
   "source": [
    "**HI_OFFER- The highest level of degree offered by the institution.**"
   ]
  },
  {
   "cell_type": "code",
   "execution_count": 120,
   "id": "8b3b455d",
   "metadata": {},
   "outputs": [
    {
     "name": "stdout",
     "output_type": "stream",
     "text": [
      "int64\n"
     ]
    }
   ],
   "source": [
    "# Data type\n",
    "column_dtype = us_uni_data['HI_OFFER'].dtype\n",
    "print(column_dtype)"
   ]
  },
  {
   "cell_type": "code",
   "execution_count": 121,
   "id": "320669fb",
   "metadata": {},
   "outputs": [
    {
     "name": "stdout",
     "output_type": "stream",
     "text": [
      "Missing Value for this Column:\n",
      " 0\n"
     ]
    }
   ],
   "source": [
    "# Missing Values in a column\n",
    "missing_values = us_uni_data['HI_OFFER'].isna().sum()\n",
    "print(\"Missing Value for this Column:\\n\", missing_values)"
   ]
  },
  {
   "cell_type": "code",
   "execution_count": 122,
   "id": "68a22747",
   "metadata": {},
   "outputs": [
    {
     "name": "stdout",
     "output_type": "stream",
     "text": [
      "Number of Unique Values: 16\n"
     ]
    }
   ],
   "source": [
    "unique_vals = us_uni_data['HI_OFFER'].nunique()\n",
    "print(f\"Number of Unique Values: {unique_vals}\")"
   ]
  },
  {
   "cell_type": "markdown",
   "id": "6fd1b7c3",
   "metadata": {},
   "source": [
    "**DEG_GRANT- The types of degrees granted by the institution.**"
   ]
  },
  {
   "cell_type": "code",
   "execution_count": 123,
   "id": "c3575487",
   "metadata": {},
   "outputs": [
    {
     "name": "stdout",
     "output_type": "stream",
     "text": [
      "int64\n"
     ]
    }
   ],
   "source": [
    "# Data type\n",
    "column_dtype = us_uni_data['DEG_GRANT'].dtype\n",
    "print(column_dtype)"
   ]
  },
  {
   "cell_type": "code",
   "execution_count": 124,
   "id": "94effae0",
   "metadata": {},
   "outputs": [
    {
     "name": "stdout",
     "output_type": "stream",
     "text": [
      "Missing Value for this Column:\n",
      " 0\n"
     ]
    }
   ],
   "source": [
    "# Missing Values in a column\n",
    "missing_values = us_uni_data['DEG_GRANT'].isna().sum()\n",
    "print(\"Missing Value for this Column:\\n\", missing_values)"
   ]
  },
  {
   "cell_type": "code",
   "execution_count": 125,
   "id": "95e92783",
   "metadata": {},
   "outputs": [
    {
     "name": "stdout",
     "output_type": "stream",
     "text": [
      "Number of Unique Values: 3\n"
     ]
    }
   ],
   "source": [
    "unique_vals = us_uni_data['DEG_GRANT'].nunique()\n",
    "print(f\"Number of Unique Values: {unique_vals}\")"
   ]
  },
  {
   "cell_type": "markdown",
   "id": "1bdb8313",
   "metadata": {},
   "source": [
    "**LOCALE- The degree of urbanization of the institution's location.**"
   ]
  },
  {
   "cell_type": "code",
   "execution_count": 126,
   "id": "5cbc1a00",
   "metadata": {},
   "outputs": [
    {
     "name": "stdout",
     "output_type": "stream",
     "text": [
      "int64\n"
     ]
    }
   ],
   "source": [
    "# Data type\n",
    "column_dtype = us_uni_data['LOCALE'].dtype\n",
    "print(column_dtype)"
   ]
  },
  {
   "cell_type": "code",
   "execution_count": 127,
   "id": "5c3181ff",
   "metadata": {},
   "outputs": [
    {
     "name": "stdout",
     "output_type": "stream",
     "text": [
      "Missing Value for this Column:\n",
      " 0\n"
     ]
    }
   ],
   "source": [
    "# Missing Values in a column\n",
    "missing_values = us_uni_data['LOCALE'].isna().sum()\n",
    "print(\"Missing Value for this Column:\\n\", missing_values)"
   ]
  },
  {
   "cell_type": "code",
   "execution_count": 128,
   "id": "2e080d20",
   "metadata": {},
   "outputs": [
    {
     "name": "stdout",
     "output_type": "stream",
     "text": [
      "Number of Unique Values: 13\n"
     ]
    }
   ],
   "source": [
    "unique_vals = us_uni_data['LOCALE'].nunique()\n",
    "print(f\"Number of Unique Values: {unique_vals}\")"
   ]
  },
  {
   "cell_type": "markdown",
   "id": "b1f8d984",
   "metadata": {},
   "source": [
    "**CLOSE_DATE- The date the institution closed.**"
   ]
  },
  {
   "cell_type": "code",
   "execution_count": 129,
   "id": "73ed2148",
   "metadata": {},
   "outputs": [
    {
     "name": "stdout",
     "output_type": "stream",
     "text": [
      "object\n"
     ]
    }
   ],
   "source": [
    "# Data type\n",
    "column_dtype = us_uni_data['CLOSE_DATE'].dtype\n",
    "print(column_dtype)"
   ]
  },
  {
   "cell_type": "code",
   "execution_count": 130,
   "id": "f7924b0c",
   "metadata": {},
   "outputs": [
    {
     "name": "stdout",
     "output_type": "stream",
     "text": [
      "Missing Value for this Column:\n",
      " 0\n"
     ]
    }
   ],
   "source": [
    "# Missing Values in a column\n",
    "missing_values = us_uni_data['CLOSE_DATE'].isna().sum()\n",
    "print(\"Missing Value for this Column:\\n\", missing_values)"
   ]
  },
  {
   "cell_type": "code",
   "execution_count": 131,
   "id": "720ba8b9",
   "metadata": {},
   "outputs": [
    {
     "name": "stdout",
     "output_type": "stream",
     "text": [
      "Number of Unique Values: 45\n"
     ]
    }
   ],
   "source": [
    "unique_vals = us_uni_data['CLOSE_DATE'].nunique()\n",
    "print(f\"Number of Unique Values: {unique_vals}\")"
   ]
  },
  {
   "cell_type": "markdown",
   "id": "bfcf8a4a",
   "metadata": {},
   "source": [
    "**MERGE_ID- The ID of the merged institution.**\n"
   ]
  },
  {
   "cell_type": "code",
   "execution_count": 132,
   "id": "50b5ee44",
   "metadata": {},
   "outputs": [
    {
     "name": "stdout",
     "output_type": "stream",
     "text": [
      "int64\n"
     ]
    }
   ],
   "source": [
    "# Data type\n",
    "column_dtype = us_uni_data['MERGE_ID'].dtype\n",
    "print(column_dtype)"
   ]
  },
  {
   "cell_type": "code",
   "execution_count": 133,
   "id": "d7f77c3f",
   "metadata": {},
   "outputs": [
    {
     "name": "stdout",
     "output_type": "stream",
     "text": [
      "Missing Value for this Column:\n",
      " 0\n"
     ]
    }
   ],
   "source": [
    "# Missing Values in a column\n",
    "missing_values = us_uni_data['MERGE_ID'].isna().sum()\n",
    "print(\"Missing Value for this Column:\\n\", missing_values)"
   ]
  },
  {
   "cell_type": "code",
   "execution_count": 134,
   "id": "6c4ed515",
   "metadata": {},
   "outputs": [
    {
     "name": "stdout",
     "output_type": "stream",
     "text": [
      "Number of Unique Values: 60\n"
     ]
    }
   ],
   "source": [
    "unique_vals = us_uni_data['MERGE_ID'].nunique()\n",
    "print(f\"Number of Unique Values: {unique_vals}\")"
   ]
  },
  {
   "cell_type": "markdown",
   "id": "f6be448b",
   "metadata": {},
   "source": [
    "**ALIAS- The alias of the institution.**"
   ]
  },
  {
   "cell_type": "code",
   "execution_count": 135,
   "id": "9bc31011",
   "metadata": {},
   "outputs": [
    {
     "name": "stdout",
     "output_type": "stream",
     "text": [
      "object\n"
     ]
    }
   ],
   "source": [
    "# Data type\n",
    "column_dtype = us_uni_data['ALIAS'].dtype\n",
    "print(column_dtype)"
   ]
  },
  {
   "cell_type": "code",
   "execution_count": 136,
   "id": "328d38f0",
   "metadata": {},
   "outputs": [
    {
     "name": "stdout",
     "output_type": "stream",
     "text": [
      "Missing Value for this Column:\n",
      " 1\n"
     ]
    }
   ],
   "source": [
    "# Missing Values in a column\n",
    "missing_values = us_uni_data['ALIAS'].isna().sum()\n",
    "print(\"Missing Value for this Column:\\n\", missing_values)"
   ]
  },
  {
   "cell_type": "code",
   "execution_count": 137,
   "id": "ca823773",
   "metadata": {},
   "outputs": [
    {
     "name": "stdout",
     "output_type": "stream",
     "text": [
      "Number of Unique Values: 2075\n"
     ]
    }
   ],
   "source": [
    "unique_vals = us_uni_data['ALIAS'].nunique()\n",
    "print(f\"Number of Unique Values: {unique_vals}\")"
   ]
  },
  {
   "cell_type": "markdown",
   "id": "11222b98",
   "metadata": {},
   "source": [
    "**SIZE_SET- The size category of the institution based on enrollment.**"
   ]
  },
  {
   "cell_type": "code",
   "execution_count": 138,
   "id": "2175118b",
   "metadata": {},
   "outputs": [
    {
     "name": "stdout",
     "output_type": "stream",
     "text": [
      "int64\n"
     ]
    }
   ],
   "source": [
    "# Data type\n",
    "column_dtype = us_uni_data['SIZE_SET'].dtype\n",
    "print(column_dtype)"
   ]
  },
  {
   "cell_type": "code",
   "execution_count": 139,
   "id": "80890fe1",
   "metadata": {},
   "outputs": [
    {
     "name": "stdout",
     "output_type": "stream",
     "text": [
      "Missing Value for this Column:\n",
      " 0\n"
     ]
    }
   ],
   "source": [
    "# Missing Values in a column\n",
    "missing_values = us_uni_data['SIZE_SET'].isna().sum()\n",
    "print(\"Missing Value for this Column:\\n\", missing_values)"
   ]
  },
  {
   "cell_type": "code",
   "execution_count": 140,
   "id": "e8b26f8c",
   "metadata": {},
   "outputs": [
    {
     "name": "stdout",
     "output_type": "stream",
     "text": [
      "Number of Unique Values: 34\n"
     ]
    }
   ],
   "source": [
    "unique_vals = us_uni_data['SIZE_SET'].nunique()\n",
    "print(f\"Number of Unique Values: {unique_vals}\")"
   ]
  },
  {
   "cell_type": "markdown",
   "id": "caf89f93",
   "metadata": {},
   "source": [
    "**INST_SIZE- The size of the institution based on enrollment.**"
   ]
  },
  {
   "cell_type": "code",
   "execution_count": 141,
   "id": "2ae6ddc1",
   "metadata": {},
   "outputs": [
    {
     "name": "stdout",
     "output_type": "stream",
     "text": [
      "int64\n"
     ]
    }
   ],
   "source": [
    "# Data type\n",
    "column_dtype = us_uni_data['INST_SIZE'].dtype\n",
    "print(column_dtype)"
   ]
  },
  {
   "cell_type": "code",
   "execution_count": 142,
   "id": "eb926b4e",
   "metadata": {},
   "outputs": [
    {
     "name": "stdout",
     "output_type": "stream",
     "text": [
      "Missing Value for this Column:\n",
      " 0\n"
     ]
    }
   ],
   "source": [
    "# Missing Values in a column\n",
    "missing_values = us_uni_data['INST_SIZE'].isna().sum()\n",
    "print(\"Missing Value for this Column:\\n\", missing_values)"
   ]
  },
  {
   "cell_type": "code",
   "execution_count": 143,
   "id": "22f17bac",
   "metadata": {},
   "outputs": [
    {
     "name": "stdout",
     "output_type": "stream",
     "text": [
      "Number of Unique Values: 7\n"
     ]
    }
   ],
   "source": [
    "unique_vals = us_uni_data['INST_SIZE'].nunique()\n",
    "print(f\"Number of Unique Values: {unique_vals}\")"
   ]
  },
  {
   "cell_type": "markdown",
   "id": "ce17c051",
   "metadata": {},
   "source": [
    "**PT_ENROLL- The number of part-time students enrolled at the institution.**"
   ]
  },
  {
   "cell_type": "code",
   "execution_count": 144,
   "id": "9905b147",
   "metadata": {},
   "outputs": [
    {
     "name": "stdout",
     "output_type": "stream",
     "text": [
      "int64\n"
     ]
    }
   ],
   "source": [
    "# Data type\n",
    "column_dtype = us_uni_data['PT_ENROLL'].dtype\n",
    "print(column_dtype)"
   ]
  },
  {
   "cell_type": "code",
   "execution_count": 145,
   "id": "586b9987",
   "metadata": {},
   "outputs": [
    {
     "name": "stdout",
     "output_type": "stream",
     "text": [
      "Missing Value for this Column:\n",
      " 0\n"
     ]
    }
   ],
   "source": [
    "# Missing Values in a column\n",
    "missing_values = us_uni_data['PT_ENROLL'].isna().sum()\n",
    "print(\"Missing Value for this Column:\\n\", missing_values)"
   ]
  },
  {
   "cell_type": "code",
   "execution_count": 146,
   "id": "6530c5ef",
   "metadata": {},
   "outputs": [
    {
     "name": "stdout",
     "output_type": "stream",
     "text": [
      "Number of Unique Values: 2048\n"
     ]
    }
   ],
   "source": [
    "unique_vals = us_uni_data['PT_ENROLL'].nunique()\n",
    "print(f\"Number of Unique Values: {unique_vals}\")"
   ]
  },
  {
   "cell_type": "markdown",
   "id": "5e7d9e4a",
   "metadata": {},
   "source": [
    "**FT_ENROLL- The number of full-time students enrolled at the institution.**\n"
   ]
  },
  {
   "cell_type": "code",
   "execution_count": 147,
   "id": "73709da7",
   "metadata": {},
   "outputs": [
    {
     "name": "stdout",
     "output_type": "stream",
     "text": [
      "int64\n"
     ]
    }
   ],
   "source": [
    "# Data type\n",
    "column_dtype = us_uni_data['FT_ENROLL'].dtype\n",
    "print(column_dtype)"
   ]
  },
  {
   "cell_type": "code",
   "execution_count": 148,
   "id": "20f146f9",
   "metadata": {},
   "outputs": [
    {
     "name": "stdout",
     "output_type": "stream",
     "text": [
      "Missing Value for this Column:\n",
      " 0\n"
     ]
    }
   ],
   "source": [
    "# Missing Values in a column\n",
    "missing_values = us_uni_data['FT_ENROLL'].isna().sum()\n",
    "print(\"Missing Value for this Column:\\n\", missing_values)"
   ]
  },
  {
   "cell_type": "code",
   "execution_count": 149,
   "id": "2909ce6b",
   "metadata": {},
   "outputs": [
    {
     "name": "stdout",
     "output_type": "stream",
     "text": [
      "Number of Unique Values: 2574\n"
     ]
    }
   ],
   "source": [
    "unique_vals = us_uni_data['FT_ENROLL'].nunique()\n",
    "print(f\"Number of Unique Values: {unique_vals}\")"
   ]
  },
  {
   "cell_type": "markdown",
   "id": "699dbfca",
   "metadata": {},
   "source": [
    "**TOT_ENROLL- The total number of students enrolled at the institution.**"
   ]
  },
  {
   "cell_type": "code",
   "execution_count": 150,
   "id": "3f486b34",
   "metadata": {},
   "outputs": [
    {
     "name": "stdout",
     "output_type": "stream",
     "text": [
      "int64\n"
     ]
    }
   ],
   "source": [
    "# Data type\n",
    "column_dtype = us_uni_data['TOT_ENROLL'].dtype\n",
    "print(column_dtype)"
   ]
  },
  {
   "cell_type": "code",
   "execution_count": 151,
   "id": "8eb13b60",
   "metadata": {},
   "outputs": [
    {
     "name": "stdout",
     "output_type": "stream",
     "text": [
      "Missing Value for this Column:\n",
      " 0\n"
     ]
    }
   ],
   "source": [
    "# Missing Values in a column\n",
    "missing_values = us_uni_data['TOT_ENROLL'].isna().sum()\n",
    "print(\"Missing Value for this Column:\\n\", missing_values)"
   ]
  },
  {
   "cell_type": "code",
   "execution_count": 152,
   "id": "0f102fd6",
   "metadata": {},
   "outputs": [
    {
     "name": "stdout",
     "output_type": "stream",
     "text": [
      "Number of Unique Values: 2984\n"
     ]
    }
   ],
   "source": [
    "unique_vals = us_uni_data['TOT_ENROLL'].nunique()\n",
    "print(f\"Number of Unique Values: {unique_vals}\")"
   ]
  },
  {
   "cell_type": "markdown",
   "id": "c4151613",
   "metadata": {},
   "source": [
    "**HOUSING- The availability of on-campus housing at the institution.**"
   ]
  },
  {
   "cell_type": "code",
   "execution_count": 153,
   "id": "a869da0e",
   "metadata": {},
   "outputs": [
    {
     "name": "stdout",
     "output_type": "stream",
     "text": [
      "int64\n"
     ]
    }
   ],
   "source": [
    "# Data type\n",
    "column_dtype = us_uni_data['HOUSING'].dtype\n",
    "print(column_dtype)"
   ]
  },
  {
   "cell_type": "code",
   "execution_count": 154,
   "id": "b9e06cd0",
   "metadata": {},
   "outputs": [
    {
     "name": "stdout",
     "output_type": "stream",
     "text": [
      "Missing Value for this Column:\n",
      " 0\n"
     ]
    }
   ],
   "source": [
    "# Missing Values in a column\n",
    "missing_values = us_uni_data['HOUSING'].isna().sum()\n",
    "print(\"Missing Value for this Column:\\n\", missing_values)"
   ]
  },
  {
   "cell_type": "code",
   "execution_count": 155,
   "id": "b3aff62c",
   "metadata": {},
   "outputs": [
    {
     "name": "stdout",
     "output_type": "stream",
     "text": [
      "Number of Unique Values: 4\n"
     ]
    }
   ],
   "source": [
    "unique_vals = us_uni_data['HOUSING'].nunique()\n",
    "print(f\"Number of Unique Values: {unique_vals}\")"
   ]
  },
  {
   "cell_type": "markdown",
   "id": "67fc979f",
   "metadata": {},
   "source": [
    "**DORM_CAP- The capacity of on-campus housing at the institution.**"
   ]
  },
  {
   "cell_type": "code",
   "execution_count": 156,
   "id": "f403fd15",
   "metadata": {},
   "outputs": [
    {
     "name": "stdout",
     "output_type": "stream",
     "text": [
      "int64\n"
     ]
    }
   ],
   "source": [
    "# Data type\n",
    "column_dtype = us_uni_data['DORM_CAP'].dtype\n",
    "print(column_dtype)"
   ]
  },
  {
   "cell_type": "code",
   "execution_count": 157,
   "id": "60b8292d",
   "metadata": {},
   "outputs": [
    {
     "name": "stdout",
     "output_type": "stream",
     "text": [
      "Missing Value for this Column:\n",
      " 0\n"
     ]
    }
   ],
   "source": [
    "# Missing Values in a column\n",
    "missing_values = us_uni_data['DORM_CAP'].isna().sum()\n",
    "print(\"Missing Value for this Column:\\n\", missing_values)"
   ]
  },
  {
   "cell_type": "code",
   "execution_count": 158,
   "id": "b0875056",
   "metadata": {},
   "outputs": [
    {
     "name": "stdout",
     "output_type": "stream",
     "text": [
      "Number of Unique Values: 1376\n"
     ]
    }
   ],
   "source": [
    "unique_vals = us_uni_data['DORM_CAP'].nunique()\n",
    "print(f\"Number of Unique Values: {unique_vals}\")"
   ]
  },
  {
   "cell_type": "markdown",
   "id": "357722eb",
   "metadata": {},
   "source": [
    "**TOT_EMP- The total number of employees at the institution.**"
   ]
  },
  {
   "cell_type": "code",
   "execution_count": 159,
   "id": "b5d0fdfb",
   "metadata": {},
   "outputs": [
    {
     "name": "stdout",
     "output_type": "stream",
     "text": [
      "int64\n"
     ]
    }
   ],
   "source": [
    "# Data type\n",
    "column_dtype = us_uni_data['TOT_EMP'].dtype\n",
    "print(column_dtype)"
   ]
  },
  {
   "cell_type": "code",
   "execution_count": 160,
   "id": "9c2d9d5b",
   "metadata": {},
   "outputs": [
    {
     "name": "stdout",
     "output_type": "stream",
     "text": [
      "Missing Value for this Column:\n",
      " 0\n"
     ]
    }
   ],
   "source": [
    "# Missing Values in a column\n",
    "missing_values = us_uni_data['TOT_EMP'].isna().sum()\n",
    "print(\"Missing Value for this Column:\\n\", missing_values)"
   ]
  },
  {
   "cell_type": "code",
   "execution_count": 161,
   "id": "85109123",
   "metadata": {},
   "outputs": [
    {
     "name": "stdout",
     "output_type": "stream",
     "text": [
      "Number of Unique Values: 1501\n"
     ]
    }
   ],
   "source": [
    "unique_vals = us_uni_data['TOT_EMP'].nunique()\n",
    "print(f\"Number of Unique Values: {unique_vals}\")"
   ]
  },
  {
   "cell_type": "markdown",
   "id": "3bfcbf44",
   "metadata": {},
   "source": [
    "**SHELTER_ID- The ID of the emergency shelter associated with the institution.**"
   ]
  },
  {
   "cell_type": "code",
   "execution_count": 162,
   "id": "78bc1161",
   "metadata": {},
   "outputs": [
    {
     "name": "stdout",
     "output_type": "stream",
     "text": [
      "object\n"
     ]
    }
   ],
   "source": [
    "# Data type\n",
    "column_dtype = us_uni_data['SHELTER_ID'].dtype\n",
    "print(column_dtype)"
   ]
  },
  {
   "cell_type": "code",
   "execution_count": 163,
   "id": "7564cbd1",
   "metadata": {},
   "outputs": [
    {
     "name": "stdout",
     "output_type": "stream",
     "text": [
      "Missing Value for this Column:\n",
      " 0\n"
     ]
    }
   ],
   "source": [
    "# Missing Values in a column\n",
    "missing_values = us_uni_data['SHELTER_ID'].isna().sum()\n",
    "print(\"Missing Value for this Column:\\n\", missing_values)"
   ]
  },
  {
   "cell_type": "code",
   "execution_count": 164,
   "id": "a4501b52",
   "metadata": {},
   "outputs": [
    {
     "name": "stdout",
     "output_type": "stream",
     "text": [
      "Number of Unique Values: 235\n"
     ]
    }
   ],
   "source": [
    "unique_vals = us_uni_data['SHELTER_ID'].nunique()\n",
    "print(f\"Number of Unique Values: {unique_vals}\")"
   ]
  },
  {
   "cell_type": "code",
   "execution_count": null,
   "id": "e4bb22ca",
   "metadata": {},
   "outputs": [],
   "source": []
  }
 ],
 "metadata": {
  "kernelspec": {
   "display_name": "Python 3 (ipykernel)",
   "language": "python",
   "name": "python3"
  },
  "language_info": {
   "codemirror_mode": {
    "name": "ipython",
    "version": 3
   },
   "file_extension": ".py",
   "mimetype": "text/x-python",
   "name": "python",
   "nbconvert_exporter": "python",
   "pygments_lexer": "ipython3",
   "version": "3.9.12"
  }
 },
 "nbformat": 4,
 "nbformat_minor": 5
}
